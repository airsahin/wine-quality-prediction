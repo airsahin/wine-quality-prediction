{
 "cells": [
  {
   "cell_type": "markdown",
   "id": "140f9d00",
   "metadata": {},
   "source": [
    "# White Wine Quality Predictor"
   ]
  },
  {
   "cell_type": "markdown",
   "id": "71ec3f62",
   "metadata": {},
   "source": [
    "### Import Libraries"
   ]
  },
  {
   "cell_type": "code",
   "execution_count": 45,
   "id": "dd0cf6c7",
   "metadata": {},
   "outputs": [],
   "source": [
    "import numpy as np\n",
    "import pandas as pd\n",
    "import matplotlib.pyplot as plt\n",
    "import seaborn as sns\n",
    "\n",
    "plt.style.use('ggplot')\n",
    "pd.set_option('display.max_columns', 200)\n",
    "pd.set_option('display.max_rows', 200) \n",
    "\n",
    "from sklearn.preprocessing import QuantileTransformer\n",
    "from scipy.stats import f_oneway, kruskal\n",
    "from sklearn.preprocessing import StandardScaler\n",
    "from sklearn.model_selection import train_test_split\n",
    "from imblearn.over_sampling import SMOTE\n",
    "from sklearn.metrics import accuracy_score, classification_report, confusion_matrix\n",
    "from sklearn.metrics import make_scorer, f1_score, recall_score\n",
    "from sklearn.tree import DecisionTreeClassifier\n",
    "from sklearn.ensemble import RandomForestClassifier\n",
    "from sklearn.model_selection import GridSearchCV\n",
    "from sklearn.ensemble import GradientBoostingClassifier\n",
    "from sklearn.model_selection import RandomizedSearchCV\n",
    "from sklearn.linear_model import LogisticRegression\n",
    "from sklearn.svm import SVC\n",
    "from sklearn.ensemble import AdaBoostClassifier\n",
    "from scipy.stats import randint\n",
    "from sklearn.model_selection import StratifiedKFold, cross_val_score\n",
    "\n",
    "import os\n",
    "import joblib"
   ]
  },
  {
   "cell_type": "markdown",
   "id": "6b40d0f9",
   "metadata": {},
   "source": [
    "### Data Cleaning & Preprocessing"
   ]
  },
  {
   "cell_type": "code",
   "execution_count": 7,
   "id": "b80e4354",
   "metadata": {},
   "outputs": [
    {
     "data": {
      "text/html": [
       "<div>\n",
       "<style scoped>\n",
       "    .dataframe tbody tr th:only-of-type {\n",
       "        vertical-align: middle;\n",
       "    }\n",
       "\n",
       "    .dataframe tbody tr th {\n",
       "        vertical-align: top;\n",
       "    }\n",
       "\n",
       "    .dataframe thead th {\n",
       "        text-align: right;\n",
       "    }\n",
       "</style>\n",
       "<table border=\"1\" class=\"dataframe\">\n",
       "  <thead>\n",
       "    <tr style=\"text-align: right;\">\n",
       "      <th></th>\n",
       "      <th>fixed acidity</th>\n",
       "      <th>volatile acidity</th>\n",
       "      <th>citric acid</th>\n",
       "      <th>residual sugar</th>\n",
       "      <th>chlorides</th>\n",
       "      <th>free sulfur dioxide</th>\n",
       "      <th>total sulfur dioxide</th>\n",
       "      <th>density</th>\n",
       "      <th>pH</th>\n",
       "      <th>sulphates</th>\n",
       "      <th>alcohol</th>\n",
       "      <th>quality</th>\n",
       "    </tr>\n",
       "  </thead>\n",
       "  <tbody>\n",
       "    <tr>\n",
       "      <th>0</th>\n",
       "      <td>7.0</td>\n",
       "      <td>0.27</td>\n",
       "      <td>0.36</td>\n",
       "      <td>20.7</td>\n",
       "      <td>0.045</td>\n",
       "      <td>45.0</td>\n",
       "      <td>170.0</td>\n",
       "      <td>1.0010</td>\n",
       "      <td>3.00</td>\n",
       "      <td>0.45</td>\n",
       "      <td>8.8</td>\n",
       "      <td>6</td>\n",
       "    </tr>\n",
       "    <tr>\n",
       "      <th>1</th>\n",
       "      <td>6.3</td>\n",
       "      <td>0.30</td>\n",
       "      <td>0.34</td>\n",
       "      <td>1.6</td>\n",
       "      <td>0.049</td>\n",
       "      <td>14.0</td>\n",
       "      <td>132.0</td>\n",
       "      <td>0.9940</td>\n",
       "      <td>3.30</td>\n",
       "      <td>0.49</td>\n",
       "      <td>9.5</td>\n",
       "      <td>6</td>\n",
       "    </tr>\n",
       "    <tr>\n",
       "      <th>2</th>\n",
       "      <td>8.1</td>\n",
       "      <td>0.28</td>\n",
       "      <td>0.40</td>\n",
       "      <td>6.9</td>\n",
       "      <td>0.050</td>\n",
       "      <td>30.0</td>\n",
       "      <td>97.0</td>\n",
       "      <td>0.9951</td>\n",
       "      <td>3.26</td>\n",
       "      <td>0.44</td>\n",
       "      <td>10.1</td>\n",
       "      <td>6</td>\n",
       "    </tr>\n",
       "    <tr>\n",
       "      <th>3</th>\n",
       "      <td>7.2</td>\n",
       "      <td>0.23</td>\n",
       "      <td>0.32</td>\n",
       "      <td>8.5</td>\n",
       "      <td>0.058</td>\n",
       "      <td>47.0</td>\n",
       "      <td>186.0</td>\n",
       "      <td>0.9956</td>\n",
       "      <td>3.19</td>\n",
       "      <td>0.40</td>\n",
       "      <td>9.9</td>\n",
       "      <td>6</td>\n",
       "    </tr>\n",
       "    <tr>\n",
       "      <th>4</th>\n",
       "      <td>7.2</td>\n",
       "      <td>0.23</td>\n",
       "      <td>0.32</td>\n",
       "      <td>8.5</td>\n",
       "      <td>0.058</td>\n",
       "      <td>47.0</td>\n",
       "      <td>186.0</td>\n",
       "      <td>0.9956</td>\n",
       "      <td>3.19</td>\n",
       "      <td>0.40</td>\n",
       "      <td>9.9</td>\n",
       "      <td>6</td>\n",
       "    </tr>\n",
       "  </tbody>\n",
       "</table>\n",
       "</div>"
      ],
      "text/plain": [
       "   fixed acidity  volatile acidity  citric acid  residual sugar  chlorides  \\\n",
       "0            7.0              0.27         0.36            20.7      0.045   \n",
       "1            6.3              0.30         0.34             1.6      0.049   \n",
       "2            8.1              0.28         0.40             6.9      0.050   \n",
       "3            7.2              0.23         0.32             8.5      0.058   \n",
       "4            7.2              0.23         0.32             8.5      0.058   \n",
       "\n",
       "   free sulfur dioxide  total sulfur dioxide  density    pH  sulphates  \\\n",
       "0                 45.0                 170.0   1.0010  3.00       0.45   \n",
       "1                 14.0                 132.0   0.9940  3.30       0.49   \n",
       "2                 30.0                  97.0   0.9951  3.26       0.44   \n",
       "3                 47.0                 186.0   0.9956  3.19       0.40   \n",
       "4                 47.0                 186.0   0.9956  3.19       0.40   \n",
       "\n",
       "   alcohol  quality  \n",
       "0      8.8        6  \n",
       "1      9.5        6  \n",
       "2     10.1        6  \n",
       "3      9.9        6  \n",
       "4      9.9        6  "
      ]
     },
     "execution_count": 7,
     "metadata": {},
     "output_type": "execute_result"
    }
   ],
   "source": [
    "df_white = pd.read_csv('../Data/winequality-white.csv', sep=';', header=0)\n",
    "df_white.head()"
   ]
  },
  {
   "cell_type": "code",
   "execution_count": 8,
   "id": "86c70f65",
   "metadata": {},
   "outputs": [
    {
     "name": "stdout",
     "output_type": "stream",
     "text": [
      "<class 'pandas.core.frame.DataFrame'>\n",
      "RangeIndex: 4898 entries, 0 to 4897\n",
      "Data columns (total 12 columns):\n",
      " #   Column                Non-Null Count  Dtype  \n",
      "---  ------                --------------  -----  \n",
      " 0   fixed acidity         4898 non-null   float64\n",
      " 1   volatile acidity      4898 non-null   float64\n",
      " 2   citric acid           4898 non-null   float64\n",
      " 3   residual sugar        4898 non-null   float64\n",
      " 4   chlorides             4898 non-null   float64\n",
      " 5   free sulfur dioxide   4898 non-null   float64\n",
      " 6   total sulfur dioxide  4898 non-null   float64\n",
      " 7   density               4898 non-null   float64\n",
      " 8   pH                    4898 non-null   float64\n",
      " 9   sulphates             4898 non-null   float64\n",
      " 10  alcohol               4898 non-null   float64\n",
      " 11  quality               4898 non-null   int64  \n",
      "dtypes: float64(11), int64(1)\n",
      "memory usage: 459.3 KB\n"
     ]
    }
   ],
   "source": [
    "df_white.info()"
   ]
  },
  {
   "cell_type": "code",
   "execution_count": 9,
   "id": "70e5b553",
   "metadata": {},
   "outputs": [
    {
     "data": {
      "text/html": [
       "<div>\n",
       "<style scoped>\n",
       "    .dataframe tbody tr th:only-of-type {\n",
       "        vertical-align: middle;\n",
       "    }\n",
       "\n",
       "    .dataframe tbody tr th {\n",
       "        vertical-align: top;\n",
       "    }\n",
       "\n",
       "    .dataframe thead th {\n",
       "        text-align: right;\n",
       "    }\n",
       "</style>\n",
       "<table border=\"1\" class=\"dataframe\">\n",
       "  <thead>\n",
       "    <tr style=\"text-align: right;\">\n",
       "      <th></th>\n",
       "      <th>count</th>\n",
       "      <th>mean</th>\n",
       "      <th>std</th>\n",
       "      <th>min</th>\n",
       "      <th>25%</th>\n",
       "      <th>50%</th>\n",
       "      <th>75%</th>\n",
       "      <th>max</th>\n",
       "    </tr>\n",
       "  </thead>\n",
       "  <tbody>\n",
       "    <tr>\n",
       "      <th>fixed acidity</th>\n",
       "      <td>4898.0</td>\n",
       "      <td>6.854788</td>\n",
       "      <td>0.843868</td>\n",
       "      <td>3.80000</td>\n",
       "      <td>6.300000</td>\n",
       "      <td>6.80000</td>\n",
       "      <td>7.3000</td>\n",
       "      <td>14.20000</td>\n",
       "    </tr>\n",
       "    <tr>\n",
       "      <th>volatile acidity</th>\n",
       "      <td>4898.0</td>\n",
       "      <td>0.278241</td>\n",
       "      <td>0.100795</td>\n",
       "      <td>0.08000</td>\n",
       "      <td>0.210000</td>\n",
       "      <td>0.26000</td>\n",
       "      <td>0.3200</td>\n",
       "      <td>1.10000</td>\n",
       "    </tr>\n",
       "    <tr>\n",
       "      <th>citric acid</th>\n",
       "      <td>4898.0</td>\n",
       "      <td>0.334192</td>\n",
       "      <td>0.121020</td>\n",
       "      <td>0.00000</td>\n",
       "      <td>0.270000</td>\n",
       "      <td>0.32000</td>\n",
       "      <td>0.3900</td>\n",
       "      <td>1.66000</td>\n",
       "    </tr>\n",
       "    <tr>\n",
       "      <th>residual sugar</th>\n",
       "      <td>4898.0</td>\n",
       "      <td>6.391415</td>\n",
       "      <td>5.072058</td>\n",
       "      <td>0.60000</td>\n",
       "      <td>1.700000</td>\n",
       "      <td>5.20000</td>\n",
       "      <td>9.9000</td>\n",
       "      <td>65.80000</td>\n",
       "    </tr>\n",
       "    <tr>\n",
       "      <th>chlorides</th>\n",
       "      <td>4898.0</td>\n",
       "      <td>0.045772</td>\n",
       "      <td>0.021848</td>\n",
       "      <td>0.00900</td>\n",
       "      <td>0.036000</td>\n",
       "      <td>0.04300</td>\n",
       "      <td>0.0500</td>\n",
       "      <td>0.34600</td>\n",
       "    </tr>\n",
       "    <tr>\n",
       "      <th>free sulfur dioxide</th>\n",
       "      <td>4898.0</td>\n",
       "      <td>35.308085</td>\n",
       "      <td>17.007137</td>\n",
       "      <td>2.00000</td>\n",
       "      <td>23.000000</td>\n",
       "      <td>34.00000</td>\n",
       "      <td>46.0000</td>\n",
       "      <td>289.00000</td>\n",
       "    </tr>\n",
       "    <tr>\n",
       "      <th>total sulfur dioxide</th>\n",
       "      <td>4898.0</td>\n",
       "      <td>138.360657</td>\n",
       "      <td>42.498065</td>\n",
       "      <td>9.00000</td>\n",
       "      <td>108.000000</td>\n",
       "      <td>134.00000</td>\n",
       "      <td>167.0000</td>\n",
       "      <td>440.00000</td>\n",
       "    </tr>\n",
       "    <tr>\n",
       "      <th>density</th>\n",
       "      <td>4898.0</td>\n",
       "      <td>0.994027</td>\n",
       "      <td>0.002991</td>\n",
       "      <td>0.98711</td>\n",
       "      <td>0.991723</td>\n",
       "      <td>0.99374</td>\n",
       "      <td>0.9961</td>\n",
       "      <td>1.03898</td>\n",
       "    </tr>\n",
       "    <tr>\n",
       "      <th>pH</th>\n",
       "      <td>4898.0</td>\n",
       "      <td>3.188267</td>\n",
       "      <td>0.151001</td>\n",
       "      <td>2.72000</td>\n",
       "      <td>3.090000</td>\n",
       "      <td>3.18000</td>\n",
       "      <td>3.2800</td>\n",
       "      <td>3.82000</td>\n",
       "    </tr>\n",
       "    <tr>\n",
       "      <th>sulphates</th>\n",
       "      <td>4898.0</td>\n",
       "      <td>0.489847</td>\n",
       "      <td>0.114126</td>\n",
       "      <td>0.22000</td>\n",
       "      <td>0.410000</td>\n",
       "      <td>0.47000</td>\n",
       "      <td>0.5500</td>\n",
       "      <td>1.08000</td>\n",
       "    </tr>\n",
       "    <tr>\n",
       "      <th>alcohol</th>\n",
       "      <td>4898.0</td>\n",
       "      <td>10.514267</td>\n",
       "      <td>1.230621</td>\n",
       "      <td>8.00000</td>\n",
       "      <td>9.500000</td>\n",
       "      <td>10.40000</td>\n",
       "      <td>11.4000</td>\n",
       "      <td>14.20000</td>\n",
       "    </tr>\n",
       "    <tr>\n",
       "      <th>quality</th>\n",
       "      <td>4898.0</td>\n",
       "      <td>5.877909</td>\n",
       "      <td>0.885639</td>\n",
       "      <td>3.00000</td>\n",
       "      <td>5.000000</td>\n",
       "      <td>6.00000</td>\n",
       "      <td>6.0000</td>\n",
       "      <td>9.00000</td>\n",
       "    </tr>\n",
       "  </tbody>\n",
       "</table>\n",
       "</div>"
      ],
      "text/plain": [
       "                       count        mean        std      min         25%  \\\n",
       "fixed acidity         4898.0    6.854788   0.843868  3.80000    6.300000   \n",
       "volatile acidity      4898.0    0.278241   0.100795  0.08000    0.210000   \n",
       "citric acid           4898.0    0.334192   0.121020  0.00000    0.270000   \n",
       "residual sugar        4898.0    6.391415   5.072058  0.60000    1.700000   \n",
       "chlorides             4898.0    0.045772   0.021848  0.00900    0.036000   \n",
       "free sulfur dioxide   4898.0   35.308085  17.007137  2.00000   23.000000   \n",
       "total sulfur dioxide  4898.0  138.360657  42.498065  9.00000  108.000000   \n",
       "density               4898.0    0.994027   0.002991  0.98711    0.991723   \n",
       "pH                    4898.0    3.188267   0.151001  2.72000    3.090000   \n",
       "sulphates             4898.0    0.489847   0.114126  0.22000    0.410000   \n",
       "alcohol               4898.0   10.514267   1.230621  8.00000    9.500000   \n",
       "quality               4898.0    5.877909   0.885639  3.00000    5.000000   \n",
       "\n",
       "                            50%       75%        max  \n",
       "fixed acidity           6.80000    7.3000   14.20000  \n",
       "volatile acidity        0.26000    0.3200    1.10000  \n",
       "citric acid             0.32000    0.3900    1.66000  \n",
       "residual sugar          5.20000    9.9000   65.80000  \n",
       "chlorides               0.04300    0.0500    0.34600  \n",
       "free sulfur dioxide    34.00000   46.0000  289.00000  \n",
       "total sulfur dioxide  134.00000  167.0000  440.00000  \n",
       "density                 0.99374    0.9961    1.03898  \n",
       "pH                      3.18000    3.2800    3.82000  \n",
       "sulphates               0.47000    0.5500    1.08000  \n",
       "alcohol                10.40000   11.4000   14.20000  \n",
       "quality                 6.00000    6.0000    9.00000  "
      ]
     },
     "execution_count": 9,
     "metadata": {},
     "output_type": "execute_result"
    }
   ],
   "source": [
    "df_white.describe().T"
   ]
  },
  {
   "cell_type": "code",
   "execution_count": 10,
   "id": "ecf3a82a",
   "metadata": {},
   "outputs": [],
   "source": [
    "# Rename columns\n",
    "\n",
    "df_white.rename(columns={\n",
    "    'fixed acidity': 'fixed_acidity',\n",
    "    'volatile acidity': 'volatile_acidity',\n",
    "    'citric acid': 'citric_acid',\n",
    "    'residual sugar': 'residual_sugar',\n",
    "    'free sulfur dioxide': 'free_sulfur_dioxide',\n",
    "    'total sulfur dioxide': 'total_sulfur_dioxide'\n",
    "}, inplace=True)"
   ]
  },
  {
   "cell_type": "code",
   "execution_count": 11,
   "id": "7f607045",
   "metadata": {},
   "outputs": [
    {
     "data": {
      "text/plain": [
       "fixed_acidity           0\n",
       "volatile_acidity        0\n",
       "citric_acid             0\n",
       "residual_sugar          0\n",
       "chlorides               0\n",
       "free_sulfur_dioxide     0\n",
       "total_sulfur_dioxide    0\n",
       "density                 0\n",
       "pH                      0\n",
       "sulphates               0\n",
       "alcohol                 0\n",
       "quality                 0\n",
       "dtype: int64"
      ]
     },
     "execution_count": 11,
     "metadata": {},
     "output_type": "execute_result"
    }
   ],
   "source": [
    "df_white.isna().sum()"
   ]
  },
  {
   "cell_type": "code",
   "execution_count": 12,
   "id": "5190188c",
   "metadata": {},
   "outputs": [
    {
     "data": {
      "text/plain": [
       "937"
      ]
     },
     "execution_count": 12,
     "metadata": {},
     "output_type": "execute_result"
    }
   ],
   "source": [
    "df_white.duplicated().sum()"
   ]
  },
  {
   "cell_type": "code",
   "execution_count": 13,
   "id": "fe4c98ef",
   "metadata": {},
   "outputs": [],
   "source": [
    "# drop duplicates\n",
    "df_white = df_white.drop_duplicates().reset_index(drop=True)"
   ]
  },
  {
   "cell_type": "markdown",
   "id": "a89535f8",
   "metadata": {},
   "source": [
    "## EDA"
   ]
  },
  {
   "cell_type": "code",
   "execution_count": 14,
   "id": "4b87c8a9",
   "metadata": {},
   "outputs": [
    {
     "data": {
      "text/plain": [
       "6    1788\n",
       "5    1175\n",
       "7     689\n",
       "4     153\n",
       "8     131\n",
       "3      20\n",
       "9       5\n",
       "Name: quality, dtype: int64"
      ]
     },
     "execution_count": 14,
     "metadata": {},
     "output_type": "execute_result"
    }
   ],
   "source": [
    "df_white['quality'].value_counts()"
   ]
  },
  {
   "cell_type": "markdown",
   "id": "adf30f61",
   "metadata": {},
   "source": [
    "* In this step, we will create a new feature called quality_label to categorize the quality rankings of wine (from 3 to 9) into three groups: low, medium, and high. \n",
    "* It will be as follows:\n",
    "\n",
    "    * Scores of 3, 4 will be labeled as 0 (low quality).\n",
    "    * Scores of 5,6,7 will be labeled as 1 (medium quality).\n",
    "    * Scores of 8,9 will be labeled as 2 (high quality).\n",
    "\n",
    "* This categorization will help improve the model's performance by simplifying the target variable."
   ]
  },
  {
   "cell_type": "code",
   "execution_count": 15,
   "id": "5e4299c4",
   "metadata": {},
   "outputs": [
    {
     "data": {
      "text/plain": [
       "1    3652\n",
       "0     173\n",
       "2     136\n",
       "Name: quality_label, dtype: int64"
      ]
     },
     "execution_count": 15,
     "metadata": {},
     "output_type": "execute_result"
    }
   ],
   "source": [
    "df_white['quality_label'] = df_white['quality'].apply(\n",
    "    lambda x: 0 if x <= 4 else (1 if 5 <= x <= 7 else 2)\n",
    ")\n",
    "df_white['quality_label'].value_counts()"
   ]
  },
  {
   "cell_type": "code",
   "execution_count": 16,
   "id": "1e98c95b",
   "metadata": {},
   "outputs": [
    {
     "data": {
      "image/png": "[encoded data removed]",
      "text/plain": [
       "<Figure size 1500x800 with 2 Axes>"
      ]
     },
     "metadata": {},
     "output_type": "display_data"
    }
   ],
   "source": [
    "# create a heatmap to check relation between quality and other features\n",
    "\n",
    "# Compute the correlation matrix\n",
    "\n",
    "corr = df_white.corr(numeric_only=True)\n",
    "\n",
    "# Create a mask for the upper triangle\n",
    "\n",
    "mask = np.triu(np.ones_like(corr, dtype=bool), k=1)\n",
    "\n",
    "# Set the figure size and plot the heatmap with the mask\n",
    "\n",
    "sns.set_theme(rc={'figure.figsize': (15, 8)})\n",
    "ax = sns.heatmap(corr, mask=mask, annot=True, vmin=-1, vmax=1, fmt='.2f', cmap=sns.diverging_palette(20, 220, n=200), square=True)\n",
    "\n",
    "# Customize the tick labels and title\n",
    "\n",
    "ax.set_xticklabels(ax.get_xticklabels(), rotation=45, horizontalalignment='right')\n",
    "plt.title('Correlation Matrix of Quality and Other Metrics for White Wines', fontsize=14)\n",
    "plt.xticks(fontsize=12)\n",
    "plt.yticks(fontsize=12)\n",
    "\n",
    "plt.show()"
   ]
  },
  {
   "cell_type": "code",
   "execution_count": 17,
   "id": "9845d7fb",
   "metadata": {},
   "outputs": [
    {
     "data": {
      "text/plain": [
       "Index(['fixed_acidity', 'volatile_acidity', 'citric_acid', 'residual_sugar',\n",
       "       'chlorides', 'free_sulfur_dioxide', 'total_sulfur_dioxide', 'density',\n",
       "       'pH', 'sulphates', 'alcohol', 'quality', 'quality_label'],\n",
       "      dtype='object')"
      ]
     },
     "execution_count": 17,
     "metadata": {},
     "output_type": "execute_result"
    }
   ],
   "source": [
    "df_white.columns"
   ]
  },
  {
   "cell_type": "code",
   "execution_count": 18,
   "id": "5b24d2c0",
   "metadata": {},
   "outputs": [
    {
     "data": {
      "image/png": "[encoded data removed]",
      "text/plain": [
       "<Figure size 1500x800 with 12 Axes>"
      ]
     },
     "metadata": {},
     "output_type": "display_data"
    }
   ],
   "source": [
    "# Plot distribution of each feature grouped by quality score\n",
    "\n",
    "# define features\n",
    "features = df_white[['fixed_acidity', 'volatile_acidity', 'citric_acid', 'residual_sugar',\n",
    "       'chlorides', 'free_sulfur_dioxide', 'total_sulfur_dioxide', 'density',\n",
    "       'pH', 'sulphates', 'alcohol', 'quality']]\n",
    "# plot\n",
    "plt.figure(figsize=(15, 8))\n",
    "for i, col in enumerate(features, 1):\n",
    "    plt.subplot(4, 4, i)\n",
    "    sns.boxplot(x='quality_label', y=col, data=df_white)\n",
    "    plt.title(f'{col}')\n",
    "plt.tight_layout()\n",
    "plt.show()"
   ]
  },
  {
   "cell_type": "code",
   "execution_count": 19,
   "id": "57a70d32",
   "metadata": {},
   "outputs": [
    {
     "data": {
      "image/png": "[encoded data removed]",
      "text/plain": [
       "<Figure size 1500x1200 with 12 Axes>"
      ]
     },
     "metadata": {},
     "output_type": "display_data"
    }
   ],
   "source": [
    "# Check outliers\n",
    "plt.figure(figsize=(15, 12))\n",
    "\n",
    "for i, feature in enumerate(features, 1):\n",
    "    plt.subplot(4, 4, i)  # 3 rows, 4 columns, plot by index\n",
    "    sns.boxplot(x=df_white[feature])\n",
    "    \n",
    "plt.subplots_adjust(hspace=0.3, wspace=0.3)\n",
    "\n",
    "plt.show()"
   ]
  },
  {
   "cell_type": "code",
   "execution_count": 20,
   "id": "a6365d47",
   "metadata": {},
   "outputs": [
    {
     "data": {
      "text/plain": [
       "fixed_acidity           0.696100\n",
       "volatile_acidity        1.641081\n",
       "citric_acid             1.310601\n",
       "residual_sugar          1.333639\n",
       "chlorides               4.969076\n",
       "free_sulfur_dioxide     1.566680\n",
       "total_sulfur_dioxide    0.456800\n",
       "density                 1.273318\n",
       "pH                      0.455457\n",
       "sulphates               0.937853\n",
       "alcohol                 0.450697\n",
       "quality                 0.112004\n",
       "quality_label          -0.329132\n",
       "dtype: float64"
      ]
     },
     "execution_count": 20,
     "metadata": {},
     "output_type": "execute_result"
    }
   ],
   "source": [
    "df_white.skew()"
   ]
  },
  {
   "cell_type": "code",
   "execution_count": 21,
   "id": "bbfeb0c2",
   "metadata": {},
   "outputs": [
    {
     "data": {
      "text/plain": [
       "fixed_acidity            2.253047\n",
       "volatile_acidity         5.327754\n",
       "citric_acid              6.844808\n",
       "residual_sugar           5.681512\n",
       "chlorides               35.530288\n",
       "free_sulfur_dioxide     13.434025\n",
       "total_sulfur_dioxide     0.735258\n",
       "density                 14.184892\n",
       "pH                       0.549957\n",
       "sulphates                1.565021\n",
       "alcohol                 -0.695980\n",
       "quality                  0.299345\n",
       "quality_label            9.810630\n",
       "dtype: float64"
      ]
     },
     "execution_count": 21,
     "metadata": {},
     "output_type": "execute_result"
    }
   ],
   "source": [
    "df_white.kurtosis()"
   ]
  },
  {
   "cell_type": "markdown",
   "id": "5eefbb28",
   "metadata": {},
   "source": [
    "* Outliers are present in the features: chlorides, volatile_acidity, citric_acid, residual_sugar, free_sulfur_dioxide, and density."
   ]
  },
  {
   "cell_type": "code",
   "execution_count": 22,
   "id": "9432fea8",
   "metadata": {},
   "outputs": [
    {
     "data": {
      "text/plain": [
       "(3570, 13)"
      ]
     },
     "execution_count": 22,
     "metadata": {},
     "output_type": "execute_result"
    }
   ],
   "source": [
    "def remove_extremes(df, columns, lower_q=0.01, upper_q=0.99):\n",
    "    for col in columns:\n",
    "        lower = df[col].quantile(lower_q)\n",
    "        upper = df[col].quantile(upper_q)\n",
    "        df = df[(df[col] >= lower) & (df[col] <= upper)]\n",
    "    return df\n",
    "\n",
    "df_white_ml = remove_extremes(df_white, ['chlorides', 'volatile_acidity', 'citric_acid', 'residual_sugar', 'free_sulfur_dioxide', 'density'])\n",
    "df_white_ml.shape\n"
   ]
  },
  {
   "cell_type": "code",
   "execution_count": 23,
   "id": "6d7e414c",
   "metadata": {},
   "outputs": [
    {
     "data": {
      "text/plain": [
       "fixed_acidity           0.731740\n",
       "volatile_acidity        0.990332\n",
       "citric_acid             0.924225\n",
       "residual_sugar          0.770665\n",
       "chlorides               3.292126\n",
       "free_sulfur_dioxide     0.401462\n",
       "total_sulfur_dioxide    0.365016\n",
       "density                 0.269803\n",
       "pH                      0.446810\n",
       "sulphates               0.923313\n",
       "alcohol                 0.415738\n",
       "quality                 0.196953\n",
       "quality_label           0.062792\n",
       "dtype: float64"
      ]
     },
     "execution_count": 23,
     "metadata": {},
     "output_type": "execute_result"
    }
   ],
   "source": [
    "df_white_ml.skew()"
   ]
  },
  {
   "cell_type": "code",
   "execution_count": 24,
   "id": "1c70ccc1",
   "metadata": {},
   "outputs": [
    {
     "data": {
      "text/plain": [
       "fixed_acidity            2.495472\n",
       "volatile_acidity         1.395687\n",
       "citric_acid              1.836237\n",
       "residual_sugar          -0.451474\n",
       "chlorides               17.911153\n",
       "free_sulfur_dioxide     -0.394075\n",
       "total_sulfur_dioxide    -0.141057\n",
       "density                 -0.791109\n",
       "pH                       0.584535\n",
       "sulphates                1.591376\n",
       "alcohol                 -0.731311\n",
       "quality                  0.200558\n",
       "quality_label           11.708757\n",
       "dtype: float64"
      ]
     },
     "execution_count": 24,
     "metadata": {},
     "output_type": "execute_result"
    }
   ],
   "source": [
    "df_white_ml.kurtosis()"
   ]
  },
  {
   "cell_type": "code",
   "execution_count": 25,
   "id": "68ccb356",
   "metadata": {},
   "outputs": [
    {
     "name": "stdout",
     "output_type": "stream",
     "text": [
      "<class 'pandas.core.frame.DataFrame'>\n",
      "Int64Index: 3570 entries, 1 to 3958\n",
      "Data columns (total 13 columns):\n",
      " #   Column                Non-Null Count  Dtype  \n",
      "---  ------                --------------  -----  \n",
      " 0   fixed_acidity         3570 non-null   float64\n",
      " 1   volatile_acidity      3570 non-null   float64\n",
      " 2   citric_acid           3570 non-null   float64\n",
      " 3   residual_sugar        3570 non-null   float64\n",
      " 4   chlorides             3570 non-null   float64\n",
      " 5   free_sulfur_dioxide   3570 non-null   float64\n",
      " 6   total_sulfur_dioxide  3570 non-null   float64\n",
      " 7   density               3570 non-null   float64\n",
      " 8   pH                    3570 non-null   float64\n",
      " 9   sulphates             3570 non-null   float64\n",
      " 10  alcohol               3570 non-null   float64\n",
      " 11  quality               3570 non-null   int64  \n",
      " 12  quality_label         3570 non-null   int64  \n",
      "dtypes: float64(11), int64(2)\n",
      "memory usage: 390.5 KB\n"
     ]
    }
   ],
   "source": [
    "df_white_ml.info()"
   ]
  },
  {
   "cell_type": "code",
   "execution_count": 26,
   "id": "d8a8f954",
   "metadata": {},
   "outputs": [
    {
     "data": {
      "text/plain": [
       "(3961, 13)"
      ]
     },
     "execution_count": 26,
     "metadata": {},
     "output_type": "execute_result"
    }
   ],
   "source": [
    "df_white.shape"
   ]
  },
  {
   "cell_type": "markdown",
   "id": "27876466",
   "metadata": {},
   "source": [
    "*  About 27% of the records have been removed(4898 to 3570) after dropping duplicates and outliers. "
   ]
  },
  {
   "cell_type": "markdown",
   "id": "c6b2c6cd",
   "metadata": {},
   "source": [
    "### Feature Selection & Hypothesis Testing"
   ]
  },
  {
   "cell_type": "code",
   "execution_count": 27,
   "id": "55b85802",
   "metadata": {},
   "outputs": [
    {
     "name": "stdout",
     "output_type": "stream",
     "text": [
      "fixed_acidity: F-statistic = 14.151, p-value = 0.000\n",
      "volatile_acidity: F-statistic = 26.140, p-value = 0.000\n",
      "citric_acid: F-statistic = 0.588, p-value = 0.555\n",
      "residual_sugar: F-statistic = 2.965, p-value = 0.052\n",
      "chlorides: F-statistic = 22.812, p-value = 0.000\n",
      "free_sulfur_dioxide: F-statistic = 30.046, p-value = 0.000\n",
      "total_sulfur_dioxide: F-statistic = 11.954, p-value = 0.000\n",
      "density: F-statistic = 40.463, p-value = 0.000\n",
      "pH: F-statistic = 4.857, p-value = 0.008\n",
      "sulphates: F-statistic = 0.418, p-value = 0.658\n",
      "alcohol: F-statistic = 87.832, p-value = 0.000\n"
     ]
    }
   ],
   "source": [
    "# Apply ANOVA for features\n",
    "anova_results = {}\n",
    "for feature in ['fixed_acidity', 'volatile_acidity', 'citric_acid', 'residual_sugar',\n",
    "       'chlorides', 'free_sulfur_dioxide', 'total_sulfur_dioxide', 'density',\n",
    "       'pH', 'sulphates', 'alcohol']:\n",
    "    groups = [df_white_ml[df_white_ml['quality_label'] == label][feature] for label in df_white_ml['quality_label'].unique()]\n",
    "    anova_results[feature] = f_oneway(*groups)\n",
    "\n",
    "for feature, result in anova_results.items():\n",
    "    print(f'{feature}: F-statistic = {result.statistic:.3f}, p-value = {result.pvalue:.3f}')"
   ]
  },
  {
   "cell_type": "markdown",
   "id": "40f4c137",
   "metadata": {},
   "source": [
    "* Selected features based on F-test p-values and results are listed below:\n",
    "\n",
    "'fixed_acidity', 'volatile_acidity',  'chlorides', 'free_sulfur_dioxide', 'total_sulfur_dioxide', 'alcohol'"
   ]
  },
  {
   "cell_type": "code",
   "execution_count": 28,
   "id": "a7f1f8fc",
   "metadata": {},
   "outputs": [
    {
     "data": {
      "text/html": [
       "<div>\n",
       "<style scoped>\n",
       "    .dataframe tbody tr th:only-of-type {\n",
       "        vertical-align: middle;\n",
       "    }\n",
       "\n",
       "    .dataframe tbody tr th {\n",
       "        vertical-align: top;\n",
       "    }\n",
       "\n",
       "    .dataframe thead th {\n",
       "        text-align: right;\n",
       "    }\n",
       "</style>\n",
       "<table border=\"1\" class=\"dataframe\">\n",
       "  <thead>\n",
       "    <tr style=\"text-align: right;\">\n",
       "      <th></th>\n",
       "      <th>fixed_acidity</th>\n",
       "      <th>volatile_acidity</th>\n",
       "      <th>chlorides</th>\n",
       "      <th>free_sulfur_dioxide</th>\n",
       "      <th>total_sulfur_dioxide</th>\n",
       "      <th>alcohol</th>\n",
       "      <th>quality</th>\n",
       "      <th>quality_label</th>\n",
       "    </tr>\n",
       "  </thead>\n",
       "  <tbody>\n",
       "    <tr>\n",
       "      <th>1</th>\n",
       "      <td>6.3</td>\n",
       "      <td>0.30</td>\n",
       "      <td>0.049</td>\n",
       "      <td>14.0</td>\n",
       "      <td>132.0</td>\n",
       "      <td>9.5</td>\n",
       "      <td>6</td>\n",
       "      <td>1</td>\n",
       "    </tr>\n",
       "    <tr>\n",
       "      <th>2</th>\n",
       "      <td>8.1</td>\n",
       "      <td>0.28</td>\n",
       "      <td>0.050</td>\n",
       "      <td>30.0</td>\n",
       "      <td>97.0</td>\n",
       "      <td>10.1</td>\n",
       "      <td>6</td>\n",
       "      <td>1</td>\n",
       "    </tr>\n",
       "    <tr>\n",
       "      <th>3</th>\n",
       "      <td>7.2</td>\n",
       "      <td>0.23</td>\n",
       "      <td>0.058</td>\n",
       "      <td>47.0</td>\n",
       "      <td>186.0</td>\n",
       "      <td>9.9</td>\n",
       "      <td>6</td>\n",
       "      <td>1</td>\n",
       "    </tr>\n",
       "    <tr>\n",
       "      <th>4</th>\n",
       "      <td>6.2</td>\n",
       "      <td>0.32</td>\n",
       "      <td>0.045</td>\n",
       "      <td>30.0</td>\n",
       "      <td>136.0</td>\n",
       "      <td>9.6</td>\n",
       "      <td>6</td>\n",
       "      <td>1</td>\n",
       "    </tr>\n",
       "    <tr>\n",
       "      <th>5</th>\n",
       "      <td>8.1</td>\n",
       "      <td>0.22</td>\n",
       "      <td>0.044</td>\n",
       "      <td>28.0</td>\n",
       "      <td>129.0</td>\n",
       "      <td>11.0</td>\n",
       "      <td>6</td>\n",
       "      <td>1</td>\n",
       "    </tr>\n",
       "  </tbody>\n",
       "</table>\n",
       "</div>"
      ],
      "text/plain": [
       "   fixed_acidity  volatile_acidity  chlorides  free_sulfur_dioxide  \\\n",
       "1            6.3              0.30      0.049                 14.0   \n",
       "2            8.1              0.28      0.050                 30.0   \n",
       "3            7.2              0.23      0.058                 47.0   \n",
       "4            6.2              0.32      0.045                 30.0   \n",
       "5            8.1              0.22      0.044                 28.0   \n",
       "\n",
       "   total_sulfur_dioxide  alcohol  quality  quality_label  \n",
       "1                 132.0      9.5        6              1  \n",
       "2                  97.0     10.1        6              1  \n",
       "3                 186.0      9.9        6              1  \n",
       "4                 136.0      9.6        6              1  \n",
       "5                 129.0     11.0        6              1  "
      ]
     },
     "execution_count": 28,
     "metadata": {},
     "output_type": "execute_result"
    }
   ],
   "source": [
    "# Define features and target(features are selected based on F-test p-values and results of the models)\n",
    "selected_features = ['fixed_acidity', 'volatile_acidity',  'chlorides', 'free_sulfur_dioxide', 'total_sulfur_dioxide', 'alcohol', 'quality', 'quality_label']\n",
    "\n",
    "df_white_ml = df_white_ml[selected_features]\n",
    "df_white_ml.head()"
   ]
  },
  {
   "cell_type": "code",
   "execution_count": 29,
   "id": "034a1884",
   "metadata": {},
   "outputs": [
    {
     "data": {
      "text/html": [
       "<div>\n",
       "<style scoped>\n",
       "    .dataframe tbody tr th:only-of-type {\n",
       "        vertical-align: middle;\n",
       "    }\n",
       "\n",
       "    .dataframe tbody tr th {\n",
       "        vertical-align: top;\n",
       "    }\n",
       "\n",
       "    .dataframe thead th {\n",
       "        text-align: right;\n",
       "    }\n",
       "</style>\n",
       "<table border=\"1\" class=\"dataframe\">\n",
       "  <thead>\n",
       "    <tr style=\"text-align: right;\">\n",
       "      <th></th>\n",
       "      <th>Quality</th>\n",
       "      <th>Q.Score</th>\n",
       "      <th>Alc</th>\n",
       "      <th>Cl</th>\n",
       "      <th>TSO2</th>\n",
       "      <th>VA</th>\n",
       "      <th>FSO2</th>\n",
       "      <th>FA</th>\n",
       "    </tr>\n",
       "  </thead>\n",
       "  <tbody>\n",
       "    <tr>\n",
       "      <th>1</th>\n",
       "      <td>1</td>\n",
       "      <td>6</td>\n",
       "      <td>9.5</td>\n",
       "      <td>0.049</td>\n",
       "      <td>132.0</td>\n",
       "      <td>0.30</td>\n",
       "      <td>14.0</td>\n",
       "      <td>6.3</td>\n",
       "    </tr>\n",
       "    <tr>\n",
       "      <th>2</th>\n",
       "      <td>1</td>\n",
       "      <td>6</td>\n",
       "      <td>10.1</td>\n",
       "      <td>0.050</td>\n",
       "      <td>97.0</td>\n",
       "      <td>0.28</td>\n",
       "      <td>30.0</td>\n",
       "      <td>8.1</td>\n",
       "    </tr>\n",
       "    <tr>\n",
       "      <th>3</th>\n",
       "      <td>1</td>\n",
       "      <td>6</td>\n",
       "      <td>9.9</td>\n",
       "      <td>0.058</td>\n",
       "      <td>186.0</td>\n",
       "      <td>0.23</td>\n",
       "      <td>47.0</td>\n",
       "      <td>7.2</td>\n",
       "    </tr>\n",
       "    <tr>\n",
       "      <th>4</th>\n",
       "      <td>1</td>\n",
       "      <td>6</td>\n",
       "      <td>9.6</td>\n",
       "      <td>0.045</td>\n",
       "      <td>136.0</td>\n",
       "      <td>0.32</td>\n",
       "      <td>30.0</td>\n",
       "      <td>6.2</td>\n",
       "    </tr>\n",
       "    <tr>\n",
       "      <th>5</th>\n",
       "      <td>1</td>\n",
       "      <td>6</td>\n",
       "      <td>11.0</td>\n",
       "      <td>0.044</td>\n",
       "      <td>129.0</td>\n",
       "      <td>0.22</td>\n",
       "      <td>28.0</td>\n",
       "      <td>8.1</td>\n",
       "    </tr>\n",
       "  </tbody>\n",
       "</table>\n",
       "</div>"
      ],
      "text/plain": [
       "   Quality  Q.Score   Alc     Cl   TSO2    VA  FSO2   FA\n",
       "1        1        6   9.5  0.049  132.0  0.30  14.0  6.3\n",
       "2        1        6  10.1  0.050   97.0  0.28  30.0  8.1\n",
       "3        1        6   9.9  0.058  186.0  0.23  47.0  7.2\n",
       "4        1        6   9.6  0.045  136.0  0.32  30.0  6.2\n",
       "5        1        6  11.0  0.044  129.0  0.22  28.0  8.1"
      ]
     },
     "execution_count": 29,
     "metadata": {},
     "output_type": "execute_result"
    }
   ],
   "source": [
    "# Rename columns\n",
    "rename_columns = {\n",
    "    'fixed_acidity': 'FA',\n",
    "    'volatile_acidity': 'VA',\n",
    "    'chlorides': 'Cl',\n",
    "    'free_sulfur_dioxide': 'FSO2',\n",
    "    'total_sulfur_dioxide': 'TSO2',\n",
    "    'alcohol': 'Alc',\n",
    "    'quality': 'Q.Score',\n",
    "    'quality_label': 'Quality'\n",
    "}\n",
    "\n",
    "# Apply \n",
    "df_white_ml = df_white_ml.rename(columns=rename_columns)\n",
    "\n",
    "# Reorder columns\n",
    "df_white_ml = df_white_ml[['Quality', 'Q.Score', 'Alc', 'Cl', 'TSO2', 'VA', 'FSO2' , 'FA']]\n",
    "\n",
    "df_white_ml.head()"
   ]
  },
  {
   "cell_type": "code",
   "execution_count": 30,
   "id": "bb67ec9e",
   "metadata": {},
   "outputs": [
    {
     "data": {
      "text/plain": [
       "1    3327\n",
       "2     124\n",
       "0     119\n",
       "Name: Quality, dtype: int64"
      ]
     },
     "execution_count": 30,
     "metadata": {},
     "output_type": "execute_result"
    }
   ],
   "source": [
    "# view the count of classes\n",
    "df_white_ml['Quality'].value_counts()"
   ]
  },
  {
   "cell_type": "markdown",
   "id": "2d00030e",
   "metadata": {},
   "source": [
    "* Mid-quality wine significantly dominates the dataset. To address this class imbalance and improve the model's prediction for minor classes (low and high ), SMOTE will be applied on the training data."
   ]
  },
  {
   "cell_type": "code",
   "execution_count": 31,
   "id": "98d854ce",
   "metadata": {},
   "outputs": [
    {
     "data": {
      "text/html": [
       "<div>\n",
       "<style scoped>\n",
       "    .dataframe tbody tr th:only-of-type {\n",
       "        vertical-align: middle;\n",
       "    }\n",
       "\n",
       "    .dataframe tbody tr th {\n",
       "        vertical-align: top;\n",
       "    }\n",
       "\n",
       "    .dataframe thead th {\n",
       "        text-align: right;\n",
       "    }\n",
       "</style>\n",
       "<table border=\"1\" class=\"dataframe\">\n",
       "  <thead>\n",
       "    <tr style=\"text-align: right;\">\n",
       "      <th></th>\n",
       "      <th>Quality</th>\n",
       "      <th>Q.Score</th>\n",
       "      <th>Alc</th>\n",
       "      <th>Cl</th>\n",
       "      <th>TSO2</th>\n",
       "      <th>VA</th>\n",
       "      <th>FSO2</th>\n",
       "      <th>FA</th>\n",
       "    </tr>\n",
       "  </thead>\n",
       "  <tbody>\n",
       "    <tr>\n",
       "      <th>count</th>\n",
       "      <td>3570.000000</td>\n",
       "      <td>3570.000000</td>\n",
       "      <td>3570.000000</td>\n",
       "      <td>3570.000000</td>\n",
       "      <td>3570.000000</td>\n",
       "      <td>3570.000000</td>\n",
       "      <td>3570.000000</td>\n",
       "      <td>3570.000000</td>\n",
       "    </tr>\n",
       "    <tr>\n",
       "      <th>mean</th>\n",
       "      <td>1.001401</td>\n",
       "      <td>5.885434</td>\n",
       "      <td>10.589159</td>\n",
       "      <td>0.044496</td>\n",
       "      <td>137.413585</td>\n",
       "      <td>0.273986</td>\n",
       "      <td>34.551261</td>\n",
       "      <td>6.846849</td>\n",
       "    </tr>\n",
       "    <tr>\n",
       "      <th>std</th>\n",
       "      <td>0.260930</td>\n",
       "      <td>0.865927</td>\n",
       "      <td>1.179575</td>\n",
       "      <td>0.015814</td>\n",
       "      <td>40.705198</td>\n",
       "      <td>0.089031</td>\n",
       "      <td>15.273569</td>\n",
       "      <td>0.840576</td>\n",
       "    </tr>\n",
       "    <tr>\n",
       "      <th>min</th>\n",
       "      <td>0.000000</td>\n",
       "      <td>3.000000</td>\n",
       "      <td>8.000000</td>\n",
       "      <td>0.020000</td>\n",
       "      <td>24.000000</td>\n",
       "      <td>0.120000</td>\n",
       "      <td>6.000000</td>\n",
       "      <td>3.900000</td>\n",
       "    </tr>\n",
       "    <tr>\n",
       "      <th>25%</th>\n",
       "      <td>1.000000</td>\n",
       "      <td>5.000000</td>\n",
       "      <td>9.600000</td>\n",
       "      <td>0.036000</td>\n",
       "      <td>107.250000</td>\n",
       "      <td>0.210000</td>\n",
       "      <td>23.000000</td>\n",
       "      <td>6.300000</td>\n",
       "    </tr>\n",
       "    <tr>\n",
       "      <th>50%</th>\n",
       "      <td>1.000000</td>\n",
       "      <td>6.000000</td>\n",
       "      <td>10.500000</td>\n",
       "      <td>0.043000</td>\n",
       "      <td>133.000000</td>\n",
       "      <td>0.260000</td>\n",
       "      <td>33.000000</td>\n",
       "      <td>6.800000</td>\n",
       "    </tr>\n",
       "    <tr>\n",
       "      <th>75%</th>\n",
       "      <td>1.000000</td>\n",
       "      <td>6.000000</td>\n",
       "      <td>11.400000</td>\n",
       "      <td>0.050000</td>\n",
       "      <td>166.000000</td>\n",
       "      <td>0.320000</td>\n",
       "      <td>45.000000</td>\n",
       "      <td>7.300000</td>\n",
       "    </tr>\n",
       "    <tr>\n",
       "      <th>max</th>\n",
       "      <td>2.000000</td>\n",
       "      <td>9.000000</td>\n",
       "      <td>14.000000</td>\n",
       "      <td>0.168000</td>\n",
       "      <td>344.000000</td>\n",
       "      <td>0.640000</td>\n",
       "      <td>81.000000</td>\n",
       "      <td>14.200000</td>\n",
       "    </tr>\n",
       "  </tbody>\n",
       "</table>\n",
       "</div>"
      ],
      "text/plain": [
       "           Quality      Q.Score          Alc           Cl         TSO2  \\\n",
       "count  3570.000000  3570.000000  3570.000000  3570.000000  3570.000000   \n",
       "mean      1.001401     5.885434    10.589159     0.044496   137.413585   \n",
       "std       0.260930     0.865927     1.179575     0.015814    40.705198   \n",
       "min       0.000000     3.000000     8.000000     0.020000    24.000000   \n",
       "25%       1.000000     5.000000     9.600000     0.036000   107.250000   \n",
       "50%       1.000000     6.000000    10.500000     0.043000   133.000000   \n",
       "75%       1.000000     6.000000    11.400000     0.050000   166.000000   \n",
       "max       2.000000     9.000000    14.000000     0.168000   344.000000   \n",
       "\n",
       "                VA         FSO2           FA  \n",
       "count  3570.000000  3570.000000  3570.000000  \n",
       "mean      0.273986    34.551261     6.846849  \n",
       "std       0.089031    15.273569     0.840576  \n",
       "min       0.120000     6.000000     3.900000  \n",
       "25%       0.210000    23.000000     6.300000  \n",
       "50%       0.260000    33.000000     6.800000  \n",
       "75%       0.320000    45.000000     7.300000  \n",
       "max       0.640000    81.000000    14.200000  "
      ]
     },
     "execution_count": 31,
     "metadata": {},
     "output_type": "execute_result"
    }
   ],
   "source": [
    "df_white_ml.describe()"
   ]
  },
  {
   "cell_type": "markdown",
   "id": "2f4efc9c",
   "metadata": {},
   "source": [
    "### Train-Test Split & Balance Data "
   ]
  },
  {
   "cell_type": "code",
   "execution_count": 32,
   "id": "a6fa2b09",
   "metadata": {},
   "outputs": [
    {
     "name": "stdout",
     "output_type": "stream",
     "text": [
      "Original class distribution in training set:\n",
      "1    2662\n",
      "2      99\n",
      "0      95\n",
      "Name: Quality, dtype: int64\n",
      "\n",
      "Class distribution after SMOTE:\n",
      "1    2662\n",
      "2    2662\n",
      "0    2662\n",
      "Name: Quality, dtype: int64\n"
     ]
    }
   ],
   "source": [
    "# Define features and target(features are selected based on F-test p-values and results of the models)\n",
    "selected_features = ['Alc', 'Cl',  'TSO2', 'VA', 'FSO2', 'FA']\n",
    "\n",
    "X = df_white_ml[selected_features]\n",
    "y = df_white_ml['Quality']\n",
    "\n",
    "# Stratified Train-Test Split\n",
    "X_train, X_test, y_train, y_test = train_test_split(\n",
    "    X, y,\n",
    "    test_size=0.2,\n",
    "    random_state=42,\n",
    "    stratify=y\n",
    ")\n",
    "\n",
    "print('Original class distribution in training set:')\n",
    "print(y_train.value_counts())\n",
    "\n",
    "# Apply SMOTE\n",
    "smote = SMOTE(random_state=42)\n",
    "X_train_smote, y_train_smote = smote.fit_resample(X_train, y_train)\n",
    "\n",
    "print('\\nClass distribution after SMOTE:')\n",
    "print(y_train_smote.value_counts())"
   ]
  },
  {
   "cell_type": "markdown",
   "id": "8de25324",
   "metadata": {},
   "source": [
    "## Model Evaluation & Selection"
   ]
  },
  {
   "cell_type": "markdown",
   "id": "01c89cc0",
   "metadata": {},
   "source": [
    "### Decision Trees"
   ]
  },
  {
   "cell_type": "code",
   "execution_count": 33,
   "id": "e75d5507",
   "metadata": {},
   "outputs": [
    {
     "name": "stdout",
     "output_type": "stream",
     "text": [
      "Accuracy of Decision Tree: 0.41596638655462187\n",
      "\n",
      "Classification Report for Decision Tree:\n",
      "              precision    recall  f1-score   support\n",
      "\n",
      "           0       0.09      0.62      0.16        24\n",
      "           1       0.97      0.39      0.56       665\n",
      "           2       0.07      0.84      0.14        25\n",
      "\n",
      "    accuracy                           0.42       714\n",
      "   macro avg       0.38      0.62      0.29       714\n",
      "weighted avg       0.91      0.42      0.53       714\n",
      "\n",
      "\n",
      "Confusion Matrix for Decision Tree:\n",
      "[[ 15   7   2]\n",
      " [141 261 263]\n",
      " [  2   2  21]]\n"
     ]
    }
   ],
   "source": [
    "# Train Decision Tree on SMOTE data \n",
    "dt_model = DecisionTreeClassifier(random_state=42, max_depth=4, class_weight='balanced')\n",
    "dt_model.fit(X_train_smote, y_train_smote)\n",
    "\n",
    "# Predict on test data\n",
    "y_pred_dt = dt_model.predict(X_test)\n",
    "\n",
    "# Evaluate\n",
    "accuracy_dt = accuracy_score(y_test, y_pred_dt)\n",
    "print('Accuracy of Decision Tree:', accuracy_dt)\n",
    "\n",
    "print('\\nClassification Report for Decision Tree:')\n",
    "print(classification_report(y_test, y_pred_dt, zero_division=0))\n",
    "\n",
    "print('\\nConfusion Matrix for Decision Tree:')\n",
    "print(confusion_matrix(y_test, y_pred_dt))"
   ]
  },
  {
   "cell_type": "markdown",
   "id": "3a7d6705",
   "metadata": {},
   "source": [
    "### Random Forest"
   ]
  },
  {
   "cell_type": "code",
   "execution_count": 34,
   "id": "c746352f",
   "metadata": {},
   "outputs": [
    {
     "name": "stdout",
     "output_type": "stream",
     "text": [
      "Accuracy of Random Forest: 0.8683473389355743\n",
      "\n",
      "Classification Report for Random Forest:\n",
      "              precision    recall  f1-score   support\n",
      "\n",
      "           0       0.22      0.25      0.24        24\n",
      "           1       0.94      0.92      0.93       665\n",
      "           2       0.12      0.20      0.15        25\n",
      "\n",
      "    accuracy                           0.87       714\n",
      "   macro avg       0.43      0.46      0.44       714\n",
      "weighted avg       0.89      0.87      0.88       714\n",
      "\n",
      "\n",
      "Confusion Matrix for Random Forest:\n",
      "[[  6  18   0]\n",
      " [ 21 609  35]\n",
      " [  0  20   5]]\n"
     ]
    }
   ],
   "source": [
    "# Initialize the Random Forest Classifier \n",
    "rf_model = RandomForestClassifier(random_state=42, class_weight='balanced')\n",
    "\n",
    "# Fit the model to training data \n",
    "rf_model.fit(X_train_smote, y_train_smote)  \n",
    "\n",
    "# Predict on the test data \n",
    "y_pred_rf = rf_model.predict(X_test)  \n",
    "\n",
    "# Evaluate the model\n",
    "accuracy_rf = accuracy_score(y_test, y_pred_rf)\n",
    "print('Accuracy of Random Forest:', accuracy_rf)\n",
    "\n",
    "# Classification Report for Random Forest\n",
    "print('\\nClassification Report for Random Forest:')\n",
    "print(classification_report(y_test, y_pred_rf))\n",
    "\n",
    "# Confusion Matrix for Random Forest\n",
    "print('\\nConfusion Matrix for Random Forest:')\n",
    "print(confusion_matrix(y_test, y_pred_rf))\n"
   ]
  },
  {
   "cell_type": "markdown",
   "id": "bda269fe",
   "metadata": {},
   "source": [
    "### Gradient Boosting"
   ]
  },
  {
   "cell_type": "code",
   "execution_count": 35,
   "id": "e4ca0cce",
   "metadata": {},
   "outputs": [
    {
     "name": "stdout",
     "output_type": "stream",
     "text": [
      "\n",
      "Accuracy of Gradient Boosting: 0.8067226890756303\n",
      "\n",
      "Classification Report for Gradient Boosting:\n",
      "              precision    recall  f1-score   support\n",
      "\n",
      "           0       0.17      0.42      0.24        24\n",
      "           1       0.95      0.84      0.89       665\n",
      "           2       0.13      0.36      0.19        25\n",
      "\n",
      "    accuracy                           0.81       714\n",
      "   macro avg       0.42      0.54      0.44       714\n",
      "weighted avg       0.89      0.81      0.84       714\n",
      "\n",
      "\n",
      "Confusion Matrix for Gradient Boosting:\n",
      "[[ 10  14   0]\n",
      " [ 48 557  60]\n",
      " [  0  16   9]]\n"
     ]
    }
   ],
   "source": [
    "# Initialize and fit the Gradient Boosting model\n",
    "gb_model = GradientBoostingClassifier(random_state=42)\n",
    "\n",
    "# Fit on original training data \n",
    "gb_model.fit(X_train_smote, y_train_smote)\n",
    "\n",
    "# Predict on test data\n",
    "y_pred_gb = gb_model.predict(X_test)\n",
    "\n",
    "# Evaluate\n",
    "accuracy_gb = accuracy_score(y_test, y_pred_gb)\n",
    "print('\\nAccuracy of Gradient Boosting:', accuracy_gb)\n",
    "\n",
    "print('\\nClassification Report for Gradient Boosting:')\n",
    "print(classification_report(y_test, y_pred_gb, zero_division=0))\n",
    "\n",
    "print('\\nConfusion Matrix for Gradient Boosting:')\n",
    "print(confusion_matrix(y_test, y_pred_gb))"
   ]
  },
  {
   "cell_type": "markdown",
   "id": "b31bb650",
   "metadata": {},
   "source": [
    "### Logistic Regression"
   ]
  },
  {
   "cell_type": "code",
   "execution_count": 36,
   "id": "ea6dc1b3",
   "metadata": {},
   "outputs": [
    {
     "name": "stdout",
     "output_type": "stream",
     "text": [
      "\n",
      "Accuracy of Logistic Regression: 0.5182072829131653\n",
      "\n",
      "Classification Report for Logistic Regression:\n",
      "              precision    recall  f1-score   support\n",
      "\n",
      "           0       0.08      0.54      0.14        24\n",
      "           1       0.96      0.51      0.66       665\n",
      "           2       0.10      0.76      0.17        25\n",
      "\n",
      "    accuracy                           0.52       714\n",
      "   macro avg       0.38      0.60      0.32       714\n",
      "weighted avg       0.90      0.52      0.63       714\n",
      "\n",
      "\n",
      "Confusion Matrix for Logistic Regression:\n",
      "[[ 13   9   2]\n",
      " [150 338 177]\n",
      " [  0   6  19]]\n"
     ]
    },
    {
     "name": "stderr",
     "output_type": "stream",
     "text": [
      "/home/airsahin/miniconda3/envs/wine-modeling/lib/python3.10/site-packages/sklearn/linear_model/_logistic.py:458: ConvergenceWarning: lbfgs failed to converge (status=1):\n",
      "STOP: TOTAL NO. of ITERATIONS REACHED LIMIT.\n",
      "\n",
      "Increase the number of iterations (max_iter) or scale the data as shown in:\n",
      "    https://scikit-learn.org/stable/modules/preprocessing.html\n",
      "Please also refer to the documentation for alternative solver options:\n",
      "    https://scikit-learn.org/stable/modules/linear_model.html#logistic-regression\n",
      "  n_iter_i = _check_optimize_result(\n"
     ]
    }
   ],
   "source": [
    "# Initialize and fit Logistic Regression model\n",
    "logreg = LogisticRegression(random_state=42, class_weight='balanced', max_iter=1000)\n",
    "logreg.fit(X_train_smote, y_train_smote)\n",
    "\n",
    "# Predict on test data\n",
    "y_pred_logreg = logreg.predict(X_test)\n",
    "\n",
    "# Evaluate\n",
    "accuracy_logreg = accuracy_score(y_test, y_pred_logreg)\n",
    "print('\\nAccuracy of Logistic Regression:', accuracy_logreg)\n",
    "\n",
    "print('\\nClassification Report for Logistic Regression:')\n",
    "print(classification_report(y_test, y_pred_logreg, zero_division=0))\n",
    "\n",
    "print('\\nConfusion Matrix for Logistic Regression:')\n",
    "print(confusion_matrix(y_test, y_pred_logreg))"
   ]
  },
  {
   "cell_type": "markdown",
   "id": "c1625f27",
   "metadata": {},
   "source": [
    "### SVM"
   ]
  },
  {
   "cell_type": "code",
   "execution_count": 37,
   "id": "a36efd58",
   "metadata": {},
   "outputs": [
    {
     "name": "stdout",
     "output_type": "stream",
     "text": [
      "\n",
      "Accuracy of SVM: 0.35014005602240894\n",
      "\n",
      "Classification Report for SVM:\n",
      "              precision    recall  f1-score   support\n",
      "\n",
      "           0       0.09      0.67      0.16        24\n",
      "           1       0.95      0.32      0.48       665\n",
      "           2       0.06      0.76      0.11        25\n",
      "\n",
      "    accuracy                           0.35       714\n",
      "   macro avg       0.37      0.58      0.25       714\n",
      "weighted avg       0.89      0.35      0.46       714\n",
      "\n",
      "\n",
      "Confusion Matrix for SVM:\n",
      "[[ 16   8   0]\n",
      " [161 215 289]\n",
      " [  3   3  19]]\n"
     ]
    }
   ],
   "source": [
    "# Initialize and fit SVM model\n",
    "svm_model = SVC(random_state=42, class_weight='balanced')\n",
    "svm_model.fit(X_train_smote, y_train_smote)\n",
    "\n",
    "# Predict on test data\n",
    "y_pred_svm = svm_model.predict(X_test)\n",
    "\n",
    "# Evaluate\n",
    "accuracy_svm = accuracy_score(y_test, y_pred_svm)\n",
    "print('\\nAccuracy of SVM:', accuracy_svm)\n",
    "\n",
    "print('\\nClassification Report for SVM:')\n",
    "print(classification_report(y_test, y_pred_svm, zero_division=0))\n",
    "\n",
    "print('\\nConfusion Matrix for SVM:')\n",
    "print(confusion_matrix(y_test, y_pred_svm))"
   ]
  },
  {
   "cell_type": "markdown",
   "id": "41e23981",
   "metadata": {},
   "source": [
    "### AdaBoost"
   ]
  },
  {
   "cell_type": "code",
   "execution_count": 38,
   "id": "2b149e68",
   "metadata": {},
   "outputs": [
    {
     "name": "stdout",
     "output_type": "stream",
     "text": [
      "\n",
      "Accuracy of AdaBoost: 0.4887955182072829\n",
      "\n",
      "Classification Report for AdaBoost:\n",
      "              precision    recall  f1-score   support\n",
      "\n",
      "           0       0.10      0.71      0.17        24\n",
      "           1       0.97      0.47      0.63       665\n",
      "           2       0.09      0.76      0.16        25\n",
      "\n",
      "    accuracy                           0.49       714\n",
      "   macro avg       0.38      0.65      0.32       714\n",
      "weighted avg       0.91      0.49      0.60       714\n",
      "\n",
      "\n",
      "Confusion Matrix for AdaBoost:\n",
      "[[ 17   5   2]\n",
      " [154 313 198]\n",
      " [  0   6  19]]\n"
     ]
    }
   ],
   "source": [
    "# Initialize and fit AdaBoost model\n",
    "ada_model = AdaBoostClassifier(random_state=42)\n",
    "ada_model.fit(X_train_smote, y_train_smote)\n",
    "\n",
    "# Predict on test data\n",
    "y_pred_ada = ada_model.predict(X_test)\n",
    "\n",
    "# Evaluate\n",
    "accuracy_ada = accuracy_score(y_test, y_pred_ada)\n",
    "print('\\nAccuracy of AdaBoost:', accuracy_ada)\n",
    "\n",
    "print('\\nClassification Report for AdaBoost:')\n",
    "print(classification_report(y_test, y_pred_ada, zero_division=0))\n",
    "\n",
    "print('\\nConfusion Matrix for AdaBoost:')\n",
    "print(confusion_matrix(y_test, y_pred_ada))"
   ]
  },
  {
   "cell_type": "markdown",
   "id": "31d1a64f",
   "metadata": {},
   "source": [
    "### Model Selection and Hyperparameter Tuning"
   ]
  },
  {
   "cell_type": "markdown",
   "id": "fab1d7e6",
   "metadata": {},
   "source": [
    "* Random Forest has the highest overall accuracy and perform well to predict medium-quality wines.\n",
    "* However, the high accuracy is misleading, as it is largely driven by the dominant medium class, and model fails to predict the minority classes (low and high quality)\n",
    "* The Decision Tree model, despite its lower overall accuracy, shows better results for minority classes, making it more effective when the goal is to detect those categories.\n",
    "\n",
    "* In this case I am adopting a hybrid approach:\n",
    "\n",
    "        Use Random Forest for medium quality wines.\n",
    "\n",
    "        Use Decision Tree to improve detection of low and high quality wines.\n",
    "\n",
    "        This hybrid approach reduces the risk of mislabeling low/high-quality wines as medium, which is common in imbalanced datasets.\n",
    "        Some medium-quality wines may be classified as low or high due to Decision Tree fallback, but I accept that since my aim is not to miss high and low quality wines."
   ]
  },
  {
   "cell_type": "markdown",
   "id": "97fdd5a7",
   "metadata": {},
   "source": [
    "### Hyperparameter Tuning & Cross Validation "
   ]
  },
  {
   "cell_type": "code",
   "execution_count": 39,
   "id": "32e2d4fe",
   "metadata": {},
   "outputs": [
    {
     "name": "stdout",
     "output_type": "stream",
     "text": [
      "Fitting 5 folds for each of 30 candidates, totalling 150 fits\n"
     ]
    },
    {
     "name": "stderr",
     "output_type": "stream",
     "text": [
      "/home/airsahin/miniconda3/envs/wine-modeling/lib/python3.10/site-packages/sklearn/ensemble/_forest.py:424: FutureWarning: `max_features='auto'` has been deprecated in 1.1 and will be removed in 1.3. To keep the past behaviour, explicitly set `max_features='sqrt'` or remove this parameter as it is also the default value for RandomForestClassifiers and ExtraTreesClassifiers.\n",
      "  warn(\n",
      "/home/airsahin/miniconda3/envs/wine-modeling/lib/python3.10/site-packages/sklearn/ensemble/_forest.py:424: FutureWarning: `max_features='auto'` has been deprecated in 1.1 and will be removed in 1.3. To keep the past behaviour, explicitly set `max_features='sqrt'` or remove this parameter as it is also the default value for RandomForestClassifiers and ExtraTreesClassifiers.\n",
      "  warn(\n",
      "/home/airsahin/miniconda3/envs/wine-modeling/lib/python3.10/site-packages/sklearn/ensemble/_forest.py:424: FutureWarning: `max_features='auto'` has been deprecated in 1.1 and will be removed in 1.3. To keep the past behaviour, explicitly set `max_features='sqrt'` or remove this parameter as it is also the default value for RandomForestClassifiers and ExtraTreesClassifiers.\n",
      "  warn(\n"
     ]
    },
    {
     "name": "stdout",
     "output_type": "stream",
     "text": [
      "[CV] END class_weight=None, max_depth=None, max_features=auto, min_samples_leaf=1, min_samples_split=10, n_estimators=100; total time=   1.7s\n",
      "[CV] END class_weight=None, max_depth=None, max_features=auto, min_samples_leaf=1, min_samples_split=10, n_estimators=100; total time=   1.7s\n",
      "[CV] END class_weight=None, max_depth=None, max_features=auto, min_samples_leaf=1, min_samples_split=10, n_estimators=100; total time=   1.7s\n"
     ]
    },
    {
     "name": "stderr",
     "output_type": "stream",
     "text": [
      "/home/airsahin/miniconda3/envs/wine-modeling/lib/python3.10/site-packages/sklearn/ensemble/_forest.py:424: FutureWarning: `max_features='auto'` has been deprecated in 1.1 and will be removed in 1.3. To keep the past behaviour, explicitly set `max_features='sqrt'` or remove this parameter as it is also the default value for RandomForestClassifiers and ExtraTreesClassifiers.\n",
      "  warn(\n",
      "/home/airsahin/miniconda3/envs/wine-modeling/lib/python3.10/site-packages/sklearn/ensemble/_forest.py:424: FutureWarning: `max_features='auto'` has been deprecated in 1.1 and will be removed in 1.3. To keep the past behaviour, explicitly set `max_features='sqrt'` or remove this parameter as it is also the default value for RandomForestClassifiers and ExtraTreesClassifiers.\n",
      "  warn(\n"
     ]
    },
    {
     "name": "stdout",
     "output_type": "stream",
     "text": [
      "[CV] END class_weight=None, max_depth=None, max_features=auto, min_samples_leaf=1, min_samples_split=10, n_estimators=100; total time=   1.7s\n",
      "[CV] END class_weight=None, max_depth=None, max_features=auto, min_samples_leaf=1, min_samples_split=10, n_estimators=100; total time=   1.8s\n",
      "[CV] END class_weight=None, max_depth=5, max_features=log2, min_samples_leaf=1, min_samples_split=10, n_estimators=500; total time=   4.4s\n",
      "[CV] END class_weight=None, max_depth=5, max_features=log2, min_samples_leaf=1, min_samples_split=10, n_estimators=500; total time=   4.4s\n",
      "[CV] END class_weight=balanced, max_depth=20, max_features=log2, min_samples_leaf=4, min_samples_split=2, n_estimators=500; total time=   8.0s\n",
      "[CV] END class_weight=balanced, max_depth=20, max_features=log2, min_samples_leaf=4, min_samples_split=2, n_estimators=500; total time=   8.1s\n",
      "[CV] END class_weight=None, max_depth=5, max_features=log2, min_samples_leaf=1, min_samples_split=10, n_estimators=500; total time=   4.6s\n",
      "[CV] END class_weight=balanced, max_depth=20, max_features=log2, min_samples_leaf=4, min_samples_split=2, n_estimators=500; total time=   8.3s\n",
      "[CV] END class_weight=balanced, max_depth=20, max_features=log2, min_samples_leaf=4, min_samples_split=2, n_estimators=500; total time= 2.6min\n",
      "[CV] END class_weight=balanced, max_depth=20, max_features=log2, min_samples_leaf=4, min_samples_split=2, n_estimators=500; total time=   8.5s\n",
      "[CV] END class_weight=None, max_depth=None, max_features=sqrt, min_samples_leaf=2, min_samples_split=2, n_estimators=100; total time=   1.6s\n",
      "[CV] END class_weight=None, max_depth=None, max_features=sqrt, min_samples_leaf=2, min_samples_split=2, n_estimators=100; total time=   1.8s\n",
      "[CV] END class_weight=None, max_depth=None, max_features=sqrt, min_samples_leaf=2, min_samples_split=2, n_estimators=100; total time=   1.9s\n",
      "[CV] END class_weight=None, max_depth=None, max_features=sqrt, min_samples_leaf=2, min_samples_split=2, n_estimators=100; total time= -146.8s\n",
      "[CV] END class_weight=None, max_depth=None, max_features=sqrt, min_samples_leaf=2, min_samples_split=2, n_estimators=100; total time=   1.7s\n",
      "[CV] END class_weight=None, max_depth=5, max_features=log2, min_samples_leaf=1, min_samples_split=10, n_estimators=500; total time=   4.4s\n",
      "[CV] END class_weight=None, max_depth=None, max_features=log2, min_samples_leaf=1, min_samples_split=5, n_estimators=100; total time=   1.7s\n",
      "[CV] END class_weight=None, max_depth=5, max_features=log2, min_samples_leaf=1, min_samples_split=10, n_estimators=500; total time=   4.4s\n",
      "[CV] END class_weight=None, max_depth=None, max_features=log2, min_samples_leaf=1, min_samples_split=5, n_estimators=100; total time=   1.7s\n",
      "[CV] END class_weight=None, max_depth=None, max_features=log2, min_samples_leaf=1, min_samples_split=5, n_estimators=100; total time=   1.7s\n"
     ]
    },
    {
     "name": "stderr",
     "output_type": "stream",
     "text": [
      "/home/airsahin/miniconda3/envs/wine-modeling/lib/python3.10/site-packages/sklearn/ensemble/_forest.py:424: FutureWarning: `max_features='auto'` has been deprecated in 1.1 and will be removed in 1.3. To keep the past behaviour, explicitly set `max_features='sqrt'` or remove this parameter as it is also the default value for RandomForestClassifiers and ExtraTreesClassifiers.\n",
      "  warn(\n"
     ]
    },
    {
     "name": "stdout",
     "output_type": "stream",
     "text": [
      "[CV] END class_weight=None, max_depth=None, max_features=log2, min_samples_leaf=1, min_samples_split=5, n_estimators=100; total time=   1.7s\n",
      "[CV] END class_weight=None, max_depth=None, max_features=log2, min_samples_leaf=1, min_samples_split=5, n_estimators=100; total time=   1.7s\n"
     ]
    },
    {
     "name": "stderr",
     "output_type": "stream",
     "text": [
      "/home/airsahin/miniconda3/envs/wine-modeling/lib/python3.10/site-packages/sklearn/ensemble/_forest.py:424: FutureWarning: `max_features='auto'` has been deprecated in 1.1 and will be removed in 1.3. To keep the past behaviour, explicitly set `max_features='sqrt'` or remove this parameter as it is also the default value for RandomForestClassifiers and ExtraTreesClassifiers.\n",
      "  warn(\n",
      "/home/airsahin/miniconda3/envs/wine-modeling/lib/python3.10/site-packages/sklearn/ensemble/_forest.py:424: FutureWarning: `max_features='auto'` has been deprecated in 1.1 and will be removed in 1.3. To keep the past behaviour, explicitly set `max_features='sqrt'` or remove this parameter as it is also the default value for RandomForestClassifiers and ExtraTreesClassifiers.\n",
      "  warn(\n"
     ]
    },
    {
     "name": "stdout",
     "output_type": "stream",
     "text": [
      "[CV] END class_weight=None, max_depth=50, max_features=log2, min_samples_leaf=1, min_samples_split=5, n_estimators=500; total time=   9.1s\n"
     ]
    },
    {
     "name": "stderr",
     "output_type": "stream",
     "text": [
      "/home/airsahin/miniconda3/envs/wine-modeling/lib/python3.10/site-packages/sklearn/ensemble/_forest.py:424: FutureWarning: `max_features='auto'` has been deprecated in 1.1 and will be removed in 1.3. To keep the past behaviour, explicitly set `max_features='sqrt'` or remove this parameter as it is also the default value for RandomForestClassifiers and ExtraTreesClassifiers.\n",
      "  warn(\n"
     ]
    },
    {
     "name": "stdout",
     "output_type": "stream",
     "text": [
      "[CV] END class_weight=None, max_depth=50, max_features=log2, min_samples_leaf=1, min_samples_split=5, n_estimators=500; total time=   8.5s\n"
     ]
    },
    {
     "name": "stderr",
     "output_type": "stream",
     "text": [
      "/home/airsahin/miniconda3/envs/wine-modeling/lib/python3.10/site-packages/sklearn/ensemble/_forest.py:424: FutureWarning: `max_features='auto'` has been deprecated in 1.1 and will be removed in 1.3. To keep the past behaviour, explicitly set `max_features='sqrt'` or remove this parameter as it is also the default value for RandomForestClassifiers and ExtraTreesClassifiers.\n",
      "  warn(\n"
     ]
    },
    {
     "name": "stdout",
     "output_type": "stream",
     "text": [
      "[CV] END class_weight=None, max_depth=50, max_features=log2, min_samples_leaf=1, min_samples_split=5, n_estimators=500; total time=   9.1s\n"
     ]
    },
    {
     "name": "stderr",
     "output_type": "stream",
     "text": [
      "/home/airsahin/miniconda3/envs/wine-modeling/lib/python3.10/site-packages/sklearn/ensemble/_forest.py:424: FutureWarning: `max_features='auto'` has been deprecated in 1.1 and will be removed in 1.3. To keep the past behaviour, explicitly set `max_features='sqrt'` or remove this parameter as it is also the default value for RandomForestClassifiers and ExtraTreesClassifiers.\n",
      "  warn(\n"
     ]
    },
    {
     "name": "stdout",
     "output_type": "stream",
     "text": [
      "[CV] END class_weight=None, max_depth=50, max_features=log2, min_samples_leaf=1, min_samples_split=5, n_estimators=500; total time=   9.1s\n",
      "[CV] END class_weight=None, max_depth=50, max_features=log2, min_samples_leaf=1, min_samples_split=5, n_estimators=500; total time=   9.2s\n"
     ]
    },
    {
     "name": "stderr",
     "output_type": "stream",
     "text": [
      "/home/airsahin/miniconda3/envs/wine-modeling/lib/python3.10/site-packages/sklearn/ensemble/_forest.py:424: FutureWarning: `max_features='auto'` has been deprecated in 1.1 and will be removed in 1.3. To keep the past behaviour, explicitly set `max_features='sqrt'` or remove this parameter as it is also the default value for RandomForestClassifiers and ExtraTreesClassifiers.\n",
      "  warn(\n",
      "/home/airsahin/miniconda3/envs/wine-modeling/lib/python3.10/site-packages/sklearn/ensemble/_forest.py:424: FutureWarning: `max_features='auto'` has been deprecated in 1.1 and will be removed in 1.3. To keep the past behaviour, explicitly set `max_features='sqrt'` or remove this parameter as it is also the default value for RandomForestClassifiers and ExtraTreesClassifiers.\n",
      "  warn(\n"
     ]
    },
    {
     "name": "stdout",
     "output_type": "stream",
     "text": [
      "[CV] END class_weight=None, max_depth=50, max_features=auto, min_samples_leaf=2, min_samples_split=5, n_estimators=500; total time=   8.5s\n",
      "[CV] END class_weight=None, max_depth=50, max_features=auto, min_samples_leaf=2, min_samples_split=10, n_estimators=200; total time=   3.2s\n",
      "[CV] END class_weight=None, max_depth=50, max_features=auto, min_samples_leaf=2, min_samples_split=10, n_estimators=200; total time=   3.5s\n"
     ]
    },
    {
     "name": "stderr",
     "output_type": "stream",
     "text": [
      "/home/airsahin/miniconda3/envs/wine-modeling/lib/python3.10/site-packages/sklearn/ensemble/_forest.py:424: FutureWarning: `max_features='auto'` has been deprecated in 1.1 and will be removed in 1.3. To keep the past behaviour, explicitly set `max_features='sqrt'` or remove this parameter as it is also the default value for RandomForestClassifiers and ExtraTreesClassifiers.\n",
      "  warn(\n",
      "/home/airsahin/miniconda3/envs/wine-modeling/lib/python3.10/site-packages/sklearn/ensemble/_forest.py:424: FutureWarning: `max_features='auto'` has been deprecated in 1.1 and will be removed in 1.3. To keep the past behaviour, explicitly set `max_features='sqrt'` or remove this parameter as it is also the default value for RandomForestClassifiers and ExtraTreesClassifiers.\n",
      "  warn(\n"
     ]
    },
    {
     "name": "stdout",
     "output_type": "stream",
     "text": [
      "[CV] END class_weight=None, max_depth=50, max_features=auto, min_samples_leaf=2, min_samples_split=5, n_estimators=500; total time=   8.6s\n",
      "[CV] END class_weight=None, max_depth=50, max_features=auto, min_samples_leaf=2, min_samples_split=5, n_estimators=500; total time=   8.7s\n",
      "[CV] END class_weight=None, max_depth=50, max_features=auto, min_samples_leaf=2, min_samples_split=10, n_estimators=200; total time=   3.5s\n",
      "[CV] END class_weight=None, max_depth=50, max_features=auto, min_samples_leaf=2, min_samples_split=10, n_estimators=200; total time=   3.3s\n",
      "[CV] END class_weight=None, max_depth=50, max_features=auto, min_samples_leaf=2, min_samples_split=10, n_estimators=200; total time=   3.4s\n",
      "[CV] END class_weight=None, max_depth=50, max_features=auto, min_samples_leaf=2, min_samples_split=5, n_estimators=500; total time=   8.9s\n",
      "[CV] END class_weight=None, max_depth=50, max_features=auto, min_samples_leaf=2, min_samples_split=5, n_estimators=500; total time=   8.4s\n",
      "[CV] END class_weight=None, max_depth=50, max_features=log2, min_samples_leaf=4, min_samples_split=2, n_estimators=500; total time=   7.9s\n",
      "[CV] END class_weight=None, max_depth=50, max_features=log2, min_samples_leaf=4, min_samples_split=2, n_estimators=500; total time=   8.3s\n",
      "[CV] END class_weight=None, max_depth=50, max_features=log2, min_samples_leaf=4, min_samples_split=2, n_estimators=500; total time=   8.4s\n",
      "[CV] END class_weight=None, max_depth=50, max_features=log2, min_samples_leaf=4, min_samples_split=2, n_estimators=500; total time=   8.4s\n",
      "[CV] END class_weight=None, max_depth=50, max_features=log2, min_samples_leaf=1, min_samples_split=5, n_estimators=100; total time=   1.7s\n",
      "[CV] END class_weight=None, max_depth=50, max_features=log2, min_samples_leaf=1, min_samples_split=5, n_estimators=100; total time=   1.7s\n",
      "[CV] END class_weight=None, max_depth=50, max_features=log2, min_samples_leaf=4, min_samples_split=2, n_estimators=500; total time= 2.6min\n",
      "[CV] END class_weight=None, max_depth=20, max_features=sqrt, min_samples_leaf=2, min_samples_split=10, n_estimators=500; total time=   8.7s\n",
      "[CV] END class_weight=None, max_depth=50, max_features=log2, min_samples_leaf=1, min_samples_split=5, n_estimators=100; total time=   1.8s\n",
      "[CV] END class_weight=None, max_depth=50, max_features=log2, min_samples_leaf=1, min_samples_split=5, n_estimators=100; total time=   1.8s\n",
      "[CV] END class_weight=None, max_depth=20, max_features=sqrt, min_samples_leaf=2, min_samples_split=10, n_estimators=500; total time=   8.3s\n",
      "[CV] END class_weight=None, max_depth=20, max_features=sqrt, min_samples_leaf=2, min_samples_split=10, n_estimators=500; total time=   8.6s\n",
      "[CV] END class_weight=None, max_depth=50, max_features=log2, min_samples_leaf=1, min_samples_split=5, n_estimators=100; total time= -146.9s\n",
      "[CV] END class_weight=None, max_depth=None, max_features=sqrt, min_samples_leaf=1, min_samples_split=5, n_estimators=200; total time=   3.6s\n",
      "[CV] END class_weight=None, max_depth=None, max_features=sqrt, min_samples_leaf=1, min_samples_split=5, n_estimators=200; total time=   3.6s\n",
      "[CV] END class_weight=None, max_depth=None, max_features=sqrt, min_samples_leaf=1, min_samples_split=5, n_estimators=200; total time=   3.4s\n",
      "[CV] END class_weight=None, max_depth=None, max_features=sqrt, min_samples_leaf=1, min_samples_split=5, n_estimators=200; total time=   3.7s\n",
      "[CV] END class_weight=None, max_depth=20, max_features=sqrt, min_samples_leaf=2, min_samples_split=10, n_estimators=500; total time=   8.1s\n",
      "[CV] END class_weight=None, max_depth=None, max_features=sqrt, min_samples_leaf=1, min_samples_split=5, n_estimators=200; total time=   3.6s\n",
      "[CV] END class_weight=None, max_depth=20, max_features=sqrt, min_samples_leaf=2, min_samples_split=10, n_estimators=500; total time=   8.2s\n",
      "[CV] END class_weight=None, max_depth=None, max_features=log2, min_samples_leaf=2, min_samples_split=10, n_estimators=300; total time=   5.0s\n",
      "[CV] END class_weight=balanced, max_depth=5, max_features=sqrt, min_samples_leaf=2, min_samples_split=2, n_estimators=300; total time=   2.7s\n",
      "[CV] END class_weight=balanced, max_depth=5, max_features=sqrt, min_samples_leaf=2, min_samples_split=2, n_estimators=300; total time=   2.7s\n",
      "[CV] END class_weight=balanced, max_depth=5, max_features=sqrt, min_samples_leaf=2, min_samples_split=2, n_estimators=300; total time=   2.6s\n",
      "[CV] END class_weight=balanced, max_depth=5, max_features=sqrt, min_samples_leaf=2, min_samples_split=2, n_estimators=300; total time=   2.6s\n",
      "[CV] END class_weight=None, max_depth=None, max_features=log2, min_samples_leaf=2, min_samples_split=10, n_estimators=300; total time=   5.1s\n",
      "[CV] END class_weight=None, max_depth=None, max_features=log2, min_samples_leaf=2, min_samples_split=10, n_estimators=300; total time=   5.1s\n",
      "[CV] END class_weight=None, max_depth=None, max_features=log2, min_samples_leaf=2, min_samples_split=10, n_estimators=300; total time=   5.1s\n"
     ]
    },
    {
     "name": "stderr",
     "output_type": "stream",
     "text": [
      "/home/airsahin/miniconda3/envs/wine-modeling/lib/python3.10/site-packages/sklearn/ensemble/_forest.py:424: FutureWarning: `max_features='auto'` has been deprecated in 1.1 and will be removed in 1.3. To keep the past behaviour, explicitly set `max_features='sqrt'` or remove this parameter as it is also the default value for RandomForestClassifiers and ExtraTreesClassifiers.\n",
      "  warn(\n",
      "/home/airsahin/miniconda3/envs/wine-modeling/lib/python3.10/site-packages/sklearn/ensemble/_forest.py:424: FutureWarning: `max_features='auto'` has been deprecated in 1.1 and will be removed in 1.3. To keep the past behaviour, explicitly set `max_features='sqrt'` or remove this parameter as it is also the default value for RandomForestClassifiers and ExtraTreesClassifiers.\n",
      "  warn(\n"
     ]
    },
    {
     "name": "stdout",
     "output_type": "stream",
     "text": [
      "[CV] END class_weight=None, max_depth=None, max_features=log2, min_samples_leaf=2, min_samples_split=10, n_estimators=300; total time= 2.6min\n",
      "[CV] END class_weight=balanced, max_depth=5, max_features=sqrt, min_samples_leaf=2, min_samples_split=2, n_estimators=300; total time=   2.7s\n"
     ]
    },
    {
     "name": "stderr",
     "output_type": "stream",
     "text": [
      "/home/airsahin/miniconda3/envs/wine-modeling/lib/python3.10/site-packages/sklearn/ensemble/_forest.py:424: FutureWarning: `max_features='auto'` has been deprecated in 1.1 and will be removed in 1.3. To keep the past behaviour, explicitly set `max_features='sqrt'` or remove this parameter as it is also the default value for RandomForestClassifiers and ExtraTreesClassifiers.\n",
      "  warn(\n"
     ]
    },
    {
     "name": "stdout",
     "output_type": "stream",
     "text": [
      "[CV] END class_weight=balanced, max_depth=20, max_features=sqrt, min_samples_leaf=1, min_samples_split=5, n_estimators=200; total time=   3.4s\n"
     ]
    },
    {
     "name": "stderr",
     "output_type": "stream",
     "text": [
      "/home/airsahin/miniconda3/envs/wine-modeling/lib/python3.10/site-packages/sklearn/ensemble/_forest.py:424: FutureWarning: `max_features='auto'` has been deprecated in 1.1 and will be removed in 1.3. To keep the past behaviour, explicitly set `max_features='sqrt'` or remove this parameter as it is also the default value for RandomForestClassifiers and ExtraTreesClassifiers.\n",
      "  warn(\n"
     ]
    },
    {
     "name": "stdout",
     "output_type": "stream",
     "text": [
      "[CV] END class_weight=balanced, max_depth=50, max_features=auto, min_samples_leaf=2, min_samples_split=5, n_estimators=100; total time=   1.8s\n",
      "[CV] END class_weight=balanced, max_depth=20, max_features=sqrt, min_samples_leaf=1, min_samples_split=5, n_estimators=200; total time=   3.8s\n"
     ]
    },
    {
     "name": "stderr",
     "output_type": "stream",
     "text": [
      "/home/airsahin/miniconda3/envs/wine-modeling/lib/python3.10/site-packages/sklearn/ensemble/_forest.py:424: FutureWarning: `max_features='auto'` has been deprecated in 1.1 and will be removed in 1.3. To keep the past behaviour, explicitly set `max_features='sqrt'` or remove this parameter as it is also the default value for RandomForestClassifiers and ExtraTreesClassifiers.\n",
      "  warn(\n",
      "/home/airsahin/miniconda3/envs/wine-modeling/lib/python3.10/site-packages/sklearn/ensemble/_forest.py:424: FutureWarning: `max_features='auto'` has been deprecated in 1.1 and will be removed in 1.3. To keep the past behaviour, explicitly set `max_features='sqrt'` or remove this parameter as it is also the default value for RandomForestClassifiers and ExtraTreesClassifiers.\n",
      "  warn(\n"
     ]
    },
    {
     "name": "stdout",
     "output_type": "stream",
     "text": [
      "[CV] END class_weight=balanced, max_depth=50, max_features=auto, min_samples_leaf=2, min_samples_split=5, n_estimators=100; total time=   1.9s\n"
     ]
    },
    {
     "name": "stderr",
     "output_type": "stream",
     "text": [
      "/home/airsahin/miniconda3/envs/wine-modeling/lib/python3.10/site-packages/sklearn/ensemble/_forest.py:424: FutureWarning: `max_features='auto'` has been deprecated in 1.1 and will be removed in 1.3. To keep the past behaviour, explicitly set `max_features='sqrt'` or remove this parameter as it is also the default value for RandomForestClassifiers and ExtraTreesClassifiers.\n",
      "  warn(\n"
     ]
    },
    {
     "name": "stdout",
     "output_type": "stream",
     "text": [
      "[CV] END class_weight=balanced, max_depth=50, max_features=auto, min_samples_leaf=2, min_samples_split=5, n_estimators=100; total time=   1.8s\n"
     ]
    },
    {
     "name": "stderr",
     "output_type": "stream",
     "text": [
      "/home/airsahin/miniconda3/envs/wine-modeling/lib/python3.10/site-packages/sklearn/ensemble/_forest.py:424: FutureWarning: `max_features='auto'` has been deprecated in 1.1 and will be removed in 1.3. To keep the past behaviour, explicitly set `max_features='sqrt'` or remove this parameter as it is also the default value for RandomForestClassifiers and ExtraTreesClassifiers.\n",
      "  warn(\n"
     ]
    },
    {
     "name": "stdout",
     "output_type": "stream",
     "text": [
      "[CV] END class_weight=balanced, max_depth=20, max_features=sqrt, min_samples_leaf=1, min_samples_split=5, n_estimators=200; total time=   3.7s\n"
     ]
    },
    {
     "name": "stderr",
     "output_type": "stream",
     "text": [
      "/home/airsahin/miniconda3/envs/wine-modeling/lib/python3.10/site-packages/sklearn/ensemble/_forest.py:424: FutureWarning: `max_features='auto'` has been deprecated in 1.1 and will be removed in 1.3. To keep the past behaviour, explicitly set `max_features='sqrt'` or remove this parameter as it is also the default value for RandomForestClassifiers and ExtraTreesClassifiers.\n",
      "  warn(\n"
     ]
    },
    {
     "name": "stdout",
     "output_type": "stream",
     "text": [
      "[CV] END class_weight=balanced, max_depth=50, max_features=auto, min_samples_leaf=2, min_samples_split=5, n_estimators=100; total time=   1.8s\n"
     ]
    },
    {
     "name": "stderr",
     "output_type": "stream",
     "text": [
      "/home/airsahin/miniconda3/envs/wine-modeling/lib/python3.10/site-packages/sklearn/ensemble/_forest.py:424: FutureWarning: `max_features='auto'` has been deprecated in 1.1 and will be removed in 1.3. To keep the past behaviour, explicitly set `max_features='sqrt'` or remove this parameter as it is also the default value for RandomForestClassifiers and ExtraTreesClassifiers.\n",
      "  warn(\n"
     ]
    },
    {
     "name": "stdout",
     "output_type": "stream",
     "text": [
      "[CV] END class_weight=balanced, max_depth=50, max_features=auto, min_samples_leaf=2, min_samples_split=5, n_estimators=100; total time=   1.9s\n",
      "[CV] END class_weight=balanced, max_depth=20, max_features=sqrt, min_samples_leaf=1, min_samples_split=5, n_estimators=200; total time=   4.0s\n",
      "[CV] END class_weight=balanced, max_depth=20, max_features=sqrt, min_samples_leaf=1, min_samples_split=5, n_estimators=200; total time=   4.1s\n",
      "[CV] END class_weight=balanced, max_depth=20, max_features=auto, min_samples_leaf=1, min_samples_split=10, n_estimators=200; total time=   3.6s\n",
      "[CV] END class_weight=balanced, max_depth=20, max_features=auto, min_samples_leaf=1, min_samples_split=10, n_estimators=200; total time=   3.9s\n",
      "[CV] END class_weight=balanced, max_depth=20, max_features=auto, min_samples_leaf=1, min_samples_split=10, n_estimators=200; total time=   3.4s\n",
      "[CV] END class_weight=balanced, max_depth=20, max_features=auto, min_samples_leaf=1, min_samples_split=10, n_estimators=200; total time=   3.4s\n",
      "[CV] END class_weight=balanced, max_depth=20, max_features=auto, min_samples_leaf=1, min_samples_split=10, n_estimators=200; total time=   3.4s\n",
      "[CV] END class_weight=None, max_depth=20, max_features=sqrt, min_samples_leaf=2, min_samples_split=2, n_estimators=100; total time=   1.8s\n",
      "[CV] END class_weight=None, max_depth=20, max_features=sqrt, min_samples_leaf=2, min_samples_split=2, n_estimators=100; total time=   1.7s\n",
      "[CV] END class_weight=None, max_depth=20, max_features=sqrt, min_samples_leaf=2, min_samples_split=2, n_estimators=100; total time=   1.6s\n"
     ]
    },
    {
     "name": "stderr",
     "output_type": "stream",
     "text": [
      "/home/airsahin/miniconda3/envs/wine-modeling/lib/python3.10/site-packages/sklearn/ensemble/_forest.py:424: FutureWarning: `max_features='auto'` has been deprecated in 1.1 and will be removed in 1.3. To keep the past behaviour, explicitly set `max_features='sqrt'` or remove this parameter as it is also the default value for RandomForestClassifiers and ExtraTreesClassifiers.\n",
      "  warn(\n"
     ]
    },
    {
     "name": "stdout",
     "output_type": "stream",
     "text": [
      "[CV] END class_weight=None, max_depth=20, max_features=sqrt, min_samples_leaf=2, min_samples_split=2, n_estimators=100; total time=   1.6s\n"
     ]
    },
    {
     "name": "stderr",
     "output_type": "stream",
     "text": [
      "/home/airsahin/miniconda3/envs/wine-modeling/lib/python3.10/site-packages/sklearn/ensemble/_forest.py:424: FutureWarning: `max_features='auto'` has been deprecated in 1.1 and will be removed in 1.3. To keep the past behaviour, explicitly set `max_features='sqrt'` or remove this parameter as it is also the default value for RandomForestClassifiers and ExtraTreesClassifiers.\n",
      "  warn(\n"
     ]
    },
    {
     "name": "stdout",
     "output_type": "stream",
     "text": [
      "[CV] END class_weight=None, max_depth=20, max_features=sqrt, min_samples_leaf=2, min_samples_split=2, n_estimators=100; total time=   1.7s\n"
     ]
    },
    {
     "name": "stderr",
     "output_type": "stream",
     "text": [
      "/home/airsahin/miniconda3/envs/wine-modeling/lib/python3.10/site-packages/sklearn/ensemble/_forest.py:424: FutureWarning: `max_features='auto'` has been deprecated in 1.1 and will be removed in 1.3. To keep the past behaviour, explicitly set `max_features='sqrt'` or remove this parameter as it is also the default value for RandomForestClassifiers and ExtraTreesClassifiers.\n",
      "  warn(\n"
     ]
    },
    {
     "name": "stdout",
     "output_type": "stream",
     "text": [
      "[CV] END class_weight=None, max_depth=20, max_features=auto, min_samples_leaf=4, min_samples_split=5, n_estimators=200; total time=   3.3s\n",
      "[CV] END class_weight=balanced, max_depth=50, max_features=sqrt, min_samples_leaf=4, min_samples_split=2, n_estimators=500; total time=   8.1s\n"
     ]
    },
    {
     "name": "stderr",
     "output_type": "stream",
     "text": [
      "/home/airsahin/miniconda3/envs/wine-modeling/lib/python3.10/site-packages/sklearn/ensemble/_forest.py:424: FutureWarning: `max_features='auto'` has been deprecated in 1.1 and will be removed in 1.3. To keep the past behaviour, explicitly set `max_features='sqrt'` or remove this parameter as it is also the default value for RandomForestClassifiers and ExtraTreesClassifiers.\n",
      "  warn(\n",
      "/home/airsahin/miniconda3/envs/wine-modeling/lib/python3.10/site-packages/sklearn/ensemble/_forest.py:424: FutureWarning: `max_features='auto'` has been deprecated in 1.1 and will be removed in 1.3. To keep the past behaviour, explicitly set `max_features='sqrt'` or remove this parameter as it is also the default value for RandomForestClassifiers and ExtraTreesClassifiers.\n",
      "  warn(\n"
     ]
    },
    {
     "name": "stdout",
     "output_type": "stream",
     "text": [
      "[CV] END class_weight=balanced, max_depth=50, max_features=sqrt, min_samples_leaf=4, min_samples_split=2, n_estimators=500; total time=   8.3s\n",
      "[CV] END class_weight=balanced, max_depth=50, max_features=sqrt, min_samples_leaf=4, min_samples_split=2, n_estimators=500; total time=   8.5s\n",
      "[CV] END class_weight=None, max_depth=20, max_features=auto, min_samples_leaf=4, min_samples_split=5, n_estimators=200; total time=   3.2s\n",
      "[CV] END class_weight=None, max_depth=20, max_features=auto, min_samples_leaf=4, min_samples_split=5, n_estimators=200; total time=   3.3s\n",
      "[CV] END class_weight=balanced, max_depth=None, max_features=sqrt, min_samples_leaf=2, min_samples_split=10, n_estimators=100; total time=   1.7s\n",
      "[CV] END class_weight=balanced, max_depth=50, max_features=sqrt, min_samples_leaf=4, min_samples_split=2, n_estimators=500; total time=   8.5s\n",
      "[CV] END class_weight=balanced, max_depth=None, max_features=sqrt, min_samples_leaf=2, min_samples_split=10, n_estimators=100; total time=   1.6s\n",
      "[CV] END class_weight=balanced, max_depth=None, max_features=sqrt, min_samples_leaf=2, min_samples_split=10, n_estimators=100; total time=   1.6s\n",
      "[CV] END class_weight=balanced, max_depth=50, max_features=sqrt, min_samples_leaf=4, min_samples_split=2, n_estimators=500; total time=   8.5s\n",
      "[CV] END class_weight=balanced, max_depth=None, max_features=sqrt, min_samples_leaf=2, min_samples_split=10, n_estimators=100; total time=   1.6s\n",
      "[CV] END class_weight=None, max_depth=20, max_features=auto, min_samples_leaf=4, min_samples_split=5, n_estimators=200; total time=   3.2s\n",
      "[CV] END class_weight=None, max_depth=20, max_features=auto, min_samples_leaf=4, min_samples_split=5, n_estimators=200; total time=   3.2s\n",
      "[CV] END class_weight=balanced, max_depth=None, max_features=sqrt, min_samples_leaf=2, min_samples_split=10, n_estimators=100; total time=   1.7s\n",
      "[CV] END class_weight=balanced, max_depth=50, max_features=sqrt, min_samples_leaf=2, min_samples_split=5, n_estimators=200; total time=   3.2s\n",
      "[CV] END class_weight=balanced, max_depth=50, max_features=sqrt, min_samples_leaf=2, min_samples_split=5, n_estimators=200; total time=   3.4s\n",
      "[CV] END class_weight=balanced, max_depth=None, max_features=sqrt, min_samples_leaf=4, min_samples_split=10, n_estimators=300; total time=   4.8s\n",
      "[CV] END class_weight=balanced, max_depth=None, max_features=sqrt, min_samples_leaf=4, min_samples_split=10, n_estimators=300; total time=   4.8s\n",
      "[CV] END class_weight=balanced, max_depth=None, max_features=sqrt, min_samples_leaf=4, min_samples_split=10, n_estimators=300; total time=   4.8s\n",
      "[CV] END class_weight=balanced, max_depth=None, max_features=sqrt, min_samples_leaf=4, min_samples_split=10, n_estimators=300; total time=   5.0s\n",
      "[CV] END class_weight=balanced, max_depth=50, max_features=sqrt, min_samples_leaf=2, min_samples_split=5, n_estimators=200; total time=   3.5s\n",
      "[CV] END class_weight=balanced, max_depth=None, max_features=sqrt, min_samples_leaf=4, min_samples_split=10, n_estimators=300; total time=   4.8s\n",
      "[CV] END class_weight=balanced, max_depth=20, max_features=sqrt, min_samples_leaf=4, min_samples_split=5, n_estimators=100; total time=   1.6s\n",
      "[CV] END class_weight=balanced, max_depth=20, max_features=sqrt, min_samples_leaf=4, min_samples_split=5, n_estimators=100; total time=   1.7s\n",
      "[CV] END class_weight=balanced, max_depth=20, max_features=sqrt, min_samples_leaf=4, min_samples_split=5, n_estimators=100; total time=   1.8s\n",
      "[CV] END class_weight=balanced, max_depth=20, max_features=sqrt, min_samples_leaf=4, min_samples_split=5, n_estimators=100; total time=   1.6s\n",
      "[CV] END class_weight=balanced, max_depth=20, max_features=sqrt, min_samples_leaf=4, min_samples_split=5, n_estimators=100; total time=   1.6s\n"
     ]
    },
    {
     "name": "stderr",
     "output_type": "stream",
     "text": [
      "/home/airsahin/miniconda3/envs/wine-modeling/lib/python3.10/site-packages/sklearn/ensemble/_forest.py:424: FutureWarning: `max_features='auto'` has been deprecated in 1.1 and will be removed in 1.3. To keep the past behaviour, explicitly set `max_features='sqrt'` or remove this parameter as it is also the default value for RandomForestClassifiers and ExtraTreesClassifiers.\n",
      "  warn(\n"
     ]
    },
    {
     "name": "stdout",
     "output_type": "stream",
     "text": [
      "[CV] END class_weight=balanced, max_depth=50, max_features=log2, min_samples_leaf=4, min_samples_split=2, n_estimators=100; total time=   1.6s\n"
     ]
    },
    {
     "name": "stderr",
     "output_type": "stream",
     "text": [
      "/home/airsahin/miniconda3/envs/wine-modeling/lib/python3.10/site-packages/sklearn/ensemble/_forest.py:424: FutureWarning: `max_features='auto'` has been deprecated in 1.1 and will be removed in 1.3. To keep the past behaviour, explicitly set `max_features='sqrt'` or remove this parameter as it is also the default value for RandomForestClassifiers and ExtraTreesClassifiers.\n",
      "  warn(\n"
     ]
    },
    {
     "name": "stdout",
     "output_type": "stream",
     "text": [
      "[CV] END class_weight=balanced, max_depth=50, max_features=sqrt, min_samples_leaf=2, min_samples_split=5, n_estimators=200; total time=   3.4s\n",
      "[CV] END class_weight=balanced, max_depth=50, max_features=sqrt, min_samples_leaf=2, min_samples_split=5, n_estimators=200; total time=   3.4s\n"
     ]
    },
    {
     "name": "stderr",
     "output_type": "stream",
     "text": [
      "/home/airsahin/miniconda3/envs/wine-modeling/lib/python3.10/site-packages/sklearn/ensemble/_forest.py:424: FutureWarning: `max_features='auto'` has been deprecated in 1.1 and will be removed in 1.3. To keep the past behaviour, explicitly set `max_features='sqrt'` or remove this parameter as it is also the default value for RandomForestClassifiers and ExtraTreesClassifiers.\n",
      "  warn(\n",
      "/home/airsahin/miniconda3/envs/wine-modeling/lib/python3.10/site-packages/sklearn/ensemble/_forest.py:424: FutureWarning: `max_features='auto'` has been deprecated in 1.1 and will be removed in 1.3. To keep the past behaviour, explicitly set `max_features='sqrt'` or remove this parameter as it is also the default value for RandomForestClassifiers and ExtraTreesClassifiers.\n",
      "  warn(\n"
     ]
    },
    {
     "name": "stdout",
     "output_type": "stream",
     "text": [
      "[CV] END class_weight=balanced, max_depth=50, max_features=log2, min_samples_leaf=4, min_samples_split=2, n_estimators=100; total time=   1.7s\n"
     ]
    },
    {
     "name": "stderr",
     "output_type": "stream",
     "text": [
      "/home/airsahin/miniconda3/envs/wine-modeling/lib/python3.10/site-packages/sklearn/ensemble/_forest.py:424: FutureWarning: `max_features='auto'` has been deprecated in 1.1 and will be removed in 1.3. To keep the past behaviour, explicitly set `max_features='sqrt'` or remove this parameter as it is also the default value for RandomForestClassifiers and ExtraTreesClassifiers.\n",
      "  warn(\n"
     ]
    },
    {
     "name": "stdout",
     "output_type": "stream",
     "text": [
      "[CV] END class_weight=balanced, max_depth=50, max_features=log2, min_samples_leaf=4, min_samples_split=2, n_estimators=100; total time=   1.8s\n",
      "[CV] END class_weight=balanced, max_depth=50, max_features=log2, min_samples_leaf=4, min_samples_split=2, n_estimators=100; total time=   1.8s\n",
      "[CV] END class_weight=balanced, max_depth=50, max_features=log2, min_samples_leaf=4, min_samples_split=2, n_estimators=100; total time=   1.8s\n",
      "[CV] END class_weight=None, max_depth=10, max_features=log2, min_samples_leaf=1, min_samples_split=10, n_estimators=200; total time=   2.9s\n",
      "[CV] END class_weight=None, max_depth=10, max_features=log2, min_samples_leaf=1, min_samples_split=10, n_estimators=200; total time=   2.9s\n",
      "[CV] END class_weight=None, max_depth=10, max_features=log2, min_samples_leaf=1, min_samples_split=10, n_estimators=200; total time=   2.8s\n",
      "[CV] END class_weight=None, max_depth=10, max_features=log2, min_samples_leaf=1, min_samples_split=10, n_estimators=200; total time=   2.6s\n",
      "[CV] END class_weight=None, max_depth=10, max_features=log2, min_samples_leaf=1, min_samples_split=10, n_estimators=200; total time=   2.7s\n",
      "[CV] END class_weight=None, max_depth=50, max_features=auto, min_samples_leaf=2, min_samples_split=2, n_estimators=500; total time=   8.7s\n",
      "[CV] END class_weight=None, max_depth=50, max_features=auto, min_samples_leaf=2, min_samples_split=2, n_estimators=500; total time=   8.4s\n",
      "[CV] END class_weight=None, max_depth=50, max_features=auto, min_samples_leaf=2, min_samples_split=2, n_estimators=500; total time= 2.6min\n",
      "[CV] END class_weight=None, max_depth=50, max_features=auto, min_samples_leaf=2, min_samples_split=2, n_estimators=500; total time=   8.5s\n",
      "[CV] END class_weight=None, max_depth=50, max_features=auto, min_samples_leaf=2, min_samples_split=2, n_estimators=500; total time=   8.5s\n",
      "[CV] END class_weight=None, max_depth=50, max_features=sqrt, min_samples_leaf=2, min_samples_split=10, n_estimators=200; total time= -145.4s\n",
      "[CV] END class_weight=None, max_depth=50, max_features=sqrt, min_samples_leaf=2, min_samples_split=10, n_estimators=200; total time=   3.2s\n",
      "[CV] END class_weight=balanced, max_depth=20, max_features=sqrt, min_samples_leaf=1, min_samples_split=10, n_estimators=500; total time=   8.3s\n",
      "[CV] END class_weight=None, max_depth=50, max_features=sqrt, min_samples_leaf=2, min_samples_split=10, n_estimators=200; total time=   3.2s\n"
     ]
    },
    {
     "name": "stderr",
     "output_type": "stream",
     "text": [
      "/home/airsahin/miniconda3/envs/wine-modeling/lib/python3.10/site-packages/sklearn/ensemble/_forest.py:424: FutureWarning: `max_features='auto'` has been deprecated in 1.1 and will be removed in 1.3. To keep the past behaviour, explicitly set `max_features='sqrt'` or remove this parameter as it is also the default value for RandomForestClassifiers and ExtraTreesClassifiers.\n",
      "  warn(\n",
      "/home/airsahin/miniconda3/envs/wine-modeling/lib/python3.10/site-packages/sklearn/ensemble/_forest.py:424: FutureWarning: `max_features='auto'` has been deprecated in 1.1 and will be removed in 1.3. To keep the past behaviour, explicitly set `max_features='sqrt'` or remove this parameter as it is also the default value for RandomForestClassifiers and ExtraTreesClassifiers.\n",
      "  warn(\n"
     ]
    },
    {
     "name": "stdout",
     "output_type": "stream",
     "text": [
      "[CV] END class_weight=None, max_depth=10, max_features=auto, min_samples_leaf=1, min_samples_split=5, n_estimators=100; total time=   1.3s\n",
      "[CV] END class_weight=None, max_depth=10, max_features=auto, min_samples_leaf=1, min_samples_split=5, n_estimators=100; total time=   1.3s\n"
     ]
    },
    {
     "name": "stderr",
     "output_type": "stream",
     "text": [
      "/home/airsahin/miniconda3/envs/wine-modeling/lib/python3.10/site-packages/sklearn/ensemble/_forest.py:424: FutureWarning: `max_features='auto'` has been deprecated in 1.1 and will be removed in 1.3. To keep the past behaviour, explicitly set `max_features='sqrt'` or remove this parameter as it is also the default value for RandomForestClassifiers and ExtraTreesClassifiers.\n",
      "  warn(\n",
      "/home/airsahin/miniconda3/envs/wine-modeling/lib/python3.10/site-packages/sklearn/ensemble/_forest.py:424: FutureWarning: `max_features='auto'` has been deprecated in 1.1 and will be removed in 1.3. To keep the past behaviour, explicitly set `max_features='sqrt'` or remove this parameter as it is also the default value for RandomForestClassifiers and ExtraTreesClassifiers.\n",
      "  warn(\n"
     ]
    },
    {
     "name": "stdout",
     "output_type": "stream",
     "text": [
      "[CV] END class_weight=balanced, max_depth=20, max_features=sqrt, min_samples_leaf=1, min_samples_split=10, n_estimators=500; total time=   8.2s\n",
      "[CV] END class_weight=balanced, max_depth=20, max_features=sqrt, min_samples_leaf=1, min_samples_split=10, n_estimators=500; total time=   8.2s\n",
      "[CV] END class_weight=None, max_depth=10, max_features=auto, min_samples_leaf=1, min_samples_split=5, n_estimators=100; total time=   1.3s\n"
     ]
    },
    {
     "name": "stderr",
     "output_type": "stream",
     "text": [
      "/home/airsahin/miniconda3/envs/wine-modeling/lib/python3.10/site-packages/sklearn/ensemble/_forest.py:424: FutureWarning: `max_features='auto'` has been deprecated in 1.1 and will be removed in 1.3. To keep the past behaviour, explicitly set `max_features='sqrt'` or remove this parameter as it is also the default value for RandomForestClassifiers and ExtraTreesClassifiers.\n",
      "  warn(\n"
     ]
    },
    {
     "name": "stdout",
     "output_type": "stream",
     "text": [
      "[CV] END class_weight=None, max_depth=50, max_features=sqrt, min_samples_leaf=2, min_samples_split=10, n_estimators=200; total time=   3.2s\n",
      "[CV] END class_weight=None, max_depth=10, max_features=auto, min_samples_leaf=1, min_samples_split=5, n_estimators=100; total time=   1.3s\n",
      "[CV] END class_weight=None, max_depth=50, max_features=sqrt, min_samples_leaf=2, min_samples_split=10, n_estimators=200; total time=   3.2s\n",
      "[CV] END class_weight=None, max_depth=10, max_features=auto, min_samples_leaf=1, min_samples_split=5, n_estimators=100; total time=   1.2s\n",
      "[CV] END class_weight=balanced, max_depth=20, max_features=sqrt, min_samples_leaf=1, min_samples_split=10, n_estimators=500; total time=   7.9s\n",
      "[CV] END class_weight=balanced, max_depth=20, max_features=sqrt, min_samples_leaf=1, min_samples_split=10, n_estimators=500; total time=   7.9s\n",
      "Best Parameters for Random Forest: {'n_estimators': 200, 'min_samples_split': 5, 'min_samples_leaf': 1, 'max_features': 'sqrt', 'max_depth': None, 'class_weight': None}\n",
      "\n",
      "Accuracy of Tuned Random Forest: 0.8669467787114846\n",
      "\n",
      "Classification Report:\n",
      "              precision    recall  f1-score   support\n",
      "\n",
      "           0       0.22      0.25      0.24        24\n",
      "           1       0.94      0.91      0.93       665\n",
      "           2       0.12      0.20      0.15        25\n",
      "\n",
      "    accuracy                           0.87       714\n",
      "   macro avg       0.43      0.45      0.44       714\n",
      "weighted avg       0.89      0.87      0.88       714\n",
      "\n",
      "\n",
      "Confusion Matrix:\n",
      "[[  6  18   0]\n",
      " [ 21 608  36]\n",
      " [  0  20   5]]\n"
     ]
    }
   ],
   "source": [
    "# Parameter grid for Random Forest\n",
    "param_grid_rf = {\n",
    "    'n_estimators': [100, 200, 300, 500],\n",
    "    'max_depth': [None, 5, 10, 20, 50],\n",
    "    'min_samples_split': [2, 5, 10],\n",
    "    'min_samples_leaf': [1, 2, 4],\n",
    "    'max_features': ['auto', 'sqrt', 'log2'],\n",
    "    'class_weight': ['balanced', None]\n",
    "}\n",
    "\n",
    "# Initialize model\n",
    "rf_model = RandomForestClassifier(random_state=42)\n",
    "\n",
    "# RandomizedSearchCV setup\n",
    "random_search_rf = RandomizedSearchCV(\n",
    "    estimator=rf_model,\n",
    "    param_distributions=param_grid_rf,\n",
    "    n_iter=30,\n",
    "    cv=5,\n",
    "    scoring='accuracy',\n",
    "    n_jobs=-1,\n",
    "    verbose=2,\n",
    "    random_state=42\n",
    ")\n",
    "\n",
    "# Fit on SMOTE data\n",
    "random_search_rf.fit(X_train_smote, y_train_smote)\n",
    "\n",
    "# Best model\n",
    "best_rf_model = random_search_rf.best_estimator_\n",
    "print('Best Parameters for Random Forest:', random_search_rf.best_params_)\n",
    "\n",
    "# Evaluate on test data\n",
    "y_pred_rf = best_rf_model.predict(X_test)\n",
    "\n",
    "print('\\nAccuracy of Tuned Random Forest:', accuracy_score(y_test, y_pred_rf))\n",
    "print('\\nClassification Report:')\n",
    "print(classification_report(y_test, y_pred_rf, zero_division=0))\n",
    "print('\\nConfusion Matrix:')\n",
    "print(confusion_matrix(y_test, y_pred_rf))"
   ]
  },
  {
   "cell_type": "code",
   "execution_count": 40,
   "id": "f6589baf",
   "metadata": {},
   "outputs": [
    {
     "name": "stdout",
     "output_type": "stream",
     "text": [
      "Fitting 5 folds for each of 20 candidates, totalling 100 fits\n",
      "[CV] END class_weight=balanced, max_depth=5, min_samples_leaf=6, min_samples_split=5; total time=   0.0s\n",
      "[CV] END class_weight=balanced, max_depth=5, min_samples_leaf=6, min_samples_split=5; total time=   0.0s\n",
      "[CV] END class_weight=balanced, max_depth=5, min_samples_leaf=6, min_samples_split=5; total time=   0.0s\n",
      "[CV] END class_weight=balanced, max_depth=5, min_samples_leaf=6, min_samples_split=5; total time=   0.0s\n",
      "[CV] END class_weight=balanced, max_depth=5, min_samples_leaf=6, min_samples_split=5; total time=   0.0s\n",
      "[CV] END class_weight=None, max_depth=5, min_samples_leaf=4, min_samples_split=2; total time=   0.0s\n",
      "[CV] END class_weight=None, max_depth=5, min_samples_leaf=4, min_samples_split=2; total time=   0.0s\n",
      "[CV] END class_weight=None, max_depth=5, min_samples_leaf=4, min_samples_split=2; total time=   0.0s\n",
      "[CV] END class_weight=None, max_depth=5, min_samples_leaf=4, min_samples_split=2; total time=   0.0s\n",
      "[CV] END class_weight=None, max_depth=5, min_samples_leaf=4, min_samples_split=2; total time=   0.0s\n",
      "[CV] END class_weight=balanced, max_depth=7, min_samples_leaf=6, min_samples_split=2; total time=   0.0s\n",
      "[CV] END class_weight=None, max_depth=5, min_samples_leaf=6, min_samples_split=15; total time=   0.0s\n",
      "[CV] END class_weight=None, max_depth=5, min_samples_leaf=6, min_samples_split=15; total time=   0.0s\n",
      "[CV] END class_weight=balanced, max_depth=7, min_samples_leaf=6, min_samples_split=2; total time=   0.1s\n",
      "[CV] END class_weight=balanced, max_depth=7, min_samples_leaf=6, min_samples_split=2; total time=   0.1s\n",
      "[CV] END class_weight=balanced, max_depth=7, min_samples_leaf=6, min_samples_split=2; total time=   0.1s\n",
      "[CV] END class_weight=balanced, max_depth=7, min_samples_leaf=6, min_samples_split=2; total time=   0.1s\n",
      "[CV] END class_weight=None, max_depth=5, min_samples_leaf=6, min_samples_split=15; total time=   0.0s\n",
      "[CV] END class_weight=None, max_depth=4, min_samples_leaf=1, min_samples_split=5; total time=   0.0s\n",
      "[CV] END class_weight=None, max_depth=4, min_samples_leaf=1, min_samples_split=5; total time=   0.0s[CV] END class_weight=None, max_depth=5, min_samples_leaf=6, min_samples_split=15; total time=   0.0s\n",
      "\n",
      "[CV] END class_weight=None, max_depth=4, min_samples_leaf=1, min_samples_split=5; total time=   0.0s\n",
      "[CV] END class_weight=None, max_depth=5, min_samples_leaf=6, min_samples_split=15; total time=   0.0s\n",
      "[CV] END class_weight=balanced, max_depth=3, min_samples_leaf=6, min_samples_split=15; total time=   0.0s\n",
      "[CV] END class_weight=None, max_depth=4, min_samples_leaf=1, min_samples_split=5; total time=   0.0s\n",
      "[CV] END class_weight=None, max_depth=4, min_samples_leaf=1, min_samples_split=5; total time=   0.0s\n",
      "[CV] END class_weight=balanced, max_depth=3, min_samples_leaf=6, min_samples_split=15; total time=   0.0s\n",
      "[CV] END class_weight=balanced, max_depth=3, min_samples_leaf=6, min_samples_split=15; total time=   0.0s\n",
      "[CV] END class_weight=balanced, max_depth=3, min_samples_leaf=6, min_samples_split=15; total time=   0.0s[CV] END class_weight=None, max_depth=None, min_samples_leaf=1, min_samples_split=5; total time=   0.1s\n",
      "\n",
      "[CV] END class_weight=balanced, max_depth=3, min_samples_leaf=6, min_samples_split=15; total time=   0.0s\n",
      "[CV] END class_weight=None, max_depth=None, min_samples_leaf=1, min_samples_split=5; total time=   0.1s\n",
      "[CV] END class_weight=balanced, max_depth=4, min_samples_leaf=1, min_samples_split=10; total time=   0.0s\n",
      "[CV] END class_weight=balanced, max_depth=4, min_samples_leaf=1, min_samples_split=10; total time=   0.0s\n",
      "[CV] END class_weight=balanced, max_depth=4, min_samples_leaf=1, min_samples_split=10; total time=   0.0s\n",
      "[CV] END class_weight=None, max_depth=None, min_samples_leaf=1, min_samples_split=5; total time=   0.1s\n",
      "[CV] END class_weight=balanced, max_depth=4, min_samples_leaf=1, min_samples_split=10; total time=   0.0s[CV] END class_weight=balanced, max_depth=4, min_samples_leaf=1, min_samples_split=10; total time=   0.0s\n",
      "\n",
      "[CV] END class_weight=balanced, max_depth=4, min_samples_leaf=1, min_samples_split=2; total time=   0.0s\n",
      "[CV] END class_weight=balanced, max_depth=4, min_samples_leaf=1, min_samples_split=2; total time=   0.1s\n",
      "[CV] END class_weight=balanced, max_depth=4, min_samples_leaf=1, min_samples_split=2; total time=   0.0s\n",
      "[CV] END class_weight=balanced, max_depth=3, min_samples_leaf=4, min_samples_split=5; total time=   0.0s\n",
      "[CV] END class_weight=balanced, max_depth=3, min_samples_leaf=4, min_samples_split=5; total time=   0.0s\n",
      "[CV] END class_weight=None, max_depth=None, min_samples_leaf=1, min_samples_split=5; total time=   0.1s\n",
      "[CV] END class_weight=balanced, max_depth=3, min_samples_leaf=4, min_samples_split=5; total time=   0.0s\n",
      "[CV] END class_weight=balanced, max_depth=3, min_samples_leaf=4, min_samples_split=5; total time=   0.0s\n",
      "[CV] END class_weight=balanced, max_depth=4, min_samples_leaf=1, min_samples_split=2; total time=   0.0s[CV] END class_weight=balanced, max_depth=4, min_samples_leaf=1, min_samples_split=2; total time=   0.0s\n",
      "\n",
      "[CV] END class_weight=None, max_depth=None, min_samples_leaf=1, min_samples_split=5; total time=   0.1s\n",
      "[CV] END class_weight=balanced, max_depth=7, min_samples_leaf=6, min_samples_split=10; total time=   0.0s\n",
      "[CV] END class_weight=balanced, max_depth=3, min_samples_leaf=4, min_samples_split=5; total time=   0.0s\n",
      "[CV] END class_weight=None, max_depth=4, min_samples_leaf=1, min_samples_split=2; total time=   0.0s\n",
      "[CV] END class_weight=balanced, max_depth=7, min_samples_leaf=1, min_samples_split=10; total time=   0.1s\n",
      "[CV] END class_weight=balanced, max_depth=7, min_samples_leaf=6, min_samples_split=10; total time=   0.0s\n",
      "[CV] END class_weight=balanced, max_depth=7, min_samples_leaf=1, min_samples_split=10; total time=   0.1s\n",
      "[CV] END class_weight=balanced, max_depth=4, min_samples_leaf=6, min_samples_split=10; total time=   0.0s\n",
      "[CV] END class_weight=None, max_depth=4, min_samples_leaf=1, min_samples_split=2; total time=   0.0s\n",
      "[CV] END class_weight=balanced, max_depth=7, min_samples_leaf=6, min_samples_split=10; total time=   0.1s\n",
      "[CV] END class_weight=None, max_depth=6, min_samples_leaf=4, min_samples_split=5; total time=   0.0s\n",
      "[CV] END class_weight=balanced, max_depth=7, min_samples_leaf=1, min_samples_split=5; total time=   0.1s\n",
      "[CV] END class_weight=balanced, max_depth=7, min_samples_leaf=6, min_samples_split=10; total time=   0.0s[CV] END class_weight=None, max_depth=4, min_samples_leaf=1, min_samples_split=2; total time=   0.0s\n",
      "[CV] END class_weight=balanced, max_depth=7, min_samples_leaf=1, min_samples_split=10; total time=   0.1s\n",
      "[CV] END class_weight=None, max_depth=6, min_samples_leaf=4, min_samples_split=5; total time=   0.0s\n",
      "\n",
      "[CV] END class_weight=balanced, max_depth=4, min_samples_leaf=6, min_samples_split=10; total time=   0.0s\n",
      "[CV] END class_weight=balanced, max_depth=7, min_samples_leaf=1, min_samples_split=5; total time=   0.1s[CV] END class_weight=balanced, max_depth=7, min_samples_leaf=6, min_samples_split=10; total time=   0.0s\n",
      "\n",
      "[CV] END class_weight=balanced, max_depth=7, min_samples_leaf=1, min_samples_split=5; total time=   0.1s\n",
      "[CV] END class_weight=None, max_depth=4, min_samples_leaf=1, min_samples_split=2; total time=   0.0s\n",
      "[CV] END class_weight=None, max_depth=4, min_samples_leaf=1, min_samples_split=2; total time=   0.0s\n",
      "[CV] END class_weight=balanced, max_depth=4, min_samples_leaf=6, min_samples_split=10; total time=   0.0s\n",
      "[CV] END class_weight=balanced, max_depth=7, min_samples_leaf=1, min_samples_split=10; total time=   0.1s\n",
      "[CV] END class_weight=None, max_depth=6, min_samples_leaf=4, min_samples_split=5; total time=   0.1s\n",
      "[CV] END class_weight=None, max_depth=6, min_samples_leaf=1, min_samples_split=5; total time=   0.0s\n",
      "[CV] END class_weight=None, max_depth=6, min_samples_leaf=4, min_samples_split=5; total time=   0.0s[CV] END class_weight=balanced, max_depth=7, min_samples_leaf=1, min_samples_split=5; total time=   0.1s\n",
      "\n",
      "[CV] END class_weight=None, max_depth=6, min_samples_leaf=1, min_samples_split=5; total time=   0.0s\n",
      "[CV] END class_weight=None, max_depth=6, min_samples_leaf=1, min_samples_split=5; total time=   0.0s\n",
      "[CV] END class_weight=balanced, max_depth=4, min_samples_leaf=6, min_samples_split=10; total time=   0.0s\n",
      "[CV] END class_weight=balanced, max_depth=4, min_samples_leaf=6, min_samples_split=10; total time=   0.0s\n",
      "[CV] END class_weight=balanced, max_depth=7, min_samples_leaf=1, min_samples_split=10; total time=   0.0s\n",
      "[CV] END class_weight=None, max_depth=6, min_samples_leaf=1, min_samples_split=5; total time=   0.0s\n",
      "[CV] END class_weight=None, max_depth=6, min_samples_leaf=4, min_samples_split=5; total time=   0.0s\n",
      "[CV] END class_weight=None, max_depth=6, min_samples_leaf=1, min_samples_split=5; total time=   0.0s\n",
      "[CV] END class_weight=balanced, max_depth=7, min_samples_leaf=1, min_samples_split=5; total time=   0.1s\n",
      "[CV] END class_weight=balanced, max_depth=7, min_samples_leaf=2, min_samples_split=5; total time=   0.0s\n",
      "[CV] END class_weight=None, max_depth=3, min_samples_leaf=6, min_samples_split=15; total time=   0.0s\n",
      "[CV] END class_weight=balanced, max_depth=7, min_samples_leaf=2, min_samples_split=5; total time=   0.1s\n",
      "[CV] END class_weight=balanced, max_depth=7, min_samples_leaf=2, min_samples_split=5; total time=   0.0s\n",
      "[CV] END class_weight=balanced, max_depth=7, min_samples_leaf=2, min_samples_split=5; total time=   0.0s\n",
      "[CV] END class_weight=None, max_depth=3, min_samples_leaf=6, min_samples_split=15; total time=   0.0s\n",
      "[CV] END class_weight=None, max_depth=3, min_samples_leaf=6, min_samples_split=15; total time=   0.0s\n",
      "[CV] END class_weight=balanced, max_depth=7, min_samples_leaf=2, min_samples_split=5; total time=   0.1s\n",
      "[CV] END class_weight=None, max_depth=3, min_samples_leaf=6, min_samples_split=15; total time=   0.0s\n",
      "[CV] END class_weight=None, max_depth=3, min_samples_leaf=6, min_samples_split=15; total time=   0.0s\n",
      "[CV] END class_weight=balanced, max_depth=7, min_samples_leaf=2, min_samples_split=2; total time=   0.0s\n",
      "[CV] END class_weight=balanced, max_depth=7, min_samples_leaf=2, min_samples_split=2; total time=   0.0s\n",
      "[CV] END class_weight=balanced, max_depth=7, min_samples_leaf=2, min_samples_split=2; total time=   0.0s\n",
      "[CV] END class_weight=balanced, max_depth=7, min_samples_leaf=2, min_samples_split=2; total time=   0.0s\n",
      "[CV] END class_weight=balanced, max_depth=7, min_samples_leaf=2, min_samples_split=2; total time=   0.0s\n",
      "Best Parameters for Decision Tree: {'min_samples_split': 5, 'min_samples_leaf': 1, 'max_depth': None, 'class_weight': None}\n",
      "\n",
      "Accuracy of Tuned Decision Tree: 0.7829131652661064\n",
      "\n",
      "Classification Report for Tuned Decision Tree:\n",
      "              precision    recall  f1-score   support\n",
      "\n",
      "           0       0.11      0.29      0.16        24\n",
      "           1       0.94      0.82      0.88       665\n",
      "           2       0.08      0.20      0.11        25\n",
      "\n",
      "    accuracy                           0.78       714\n",
      "   macro avg       0.37      0.44      0.38       714\n",
      "weighted avg       0.88      0.78      0.83       714\n",
      "\n",
      "\n",
      "Confusion Matrix for Tuned Decision Tree:\n",
      "[[  7  17   0]\n",
      " [ 57 547  61]\n",
      " [  1  19   5]]\n"
     ]
    }
   ],
   "source": [
    "# Parameter grid for Decision Tree\n",
    "param_grid_dt = {\n",
    "    'max_depth': [3, 4, 5, 6, 7, None],\n",
    "    'min_samples_split': [2, 5, 10, 15],\n",
    "    'min_samples_leaf': [1, 2, 4, 6],\n",
    "    'class_weight': ['balanced', None]\n",
    "}\n",
    "\n",
    "# Initialize model\n",
    "dt_model = DecisionTreeClassifier(random_state=42)\n",
    "\n",
    "# Setup RandomizedSearchCV\n",
    "random_search_dt = RandomizedSearchCV(\n",
    "    estimator=dt_model,\n",
    "    param_distributions=param_grid_dt,\n",
    "    n_iter=20,\n",
    "    cv=5,\n",
    "    scoring='accuracy', \n",
    "    n_jobs=-1,\n",
    "    verbose=2,\n",
    "    random_state=42\n",
    ")\n",
    "\n",
    "# Fit on SMOTE data\n",
    "random_search_dt.fit(X_train_smote, y_train_smote)\n",
    "\n",
    "# Best model\n",
    "best_dt_model = random_search_dt.best_estimator_\n",
    "print('Best Parameters for Decision Tree:', random_search_dt.best_params_)\n",
    "\n",
    "# Predict on test data\n",
    "y_pred_dt = best_dt_model.predict(X_test)\n",
    "\n",
    "# Evaluate\n",
    "accuracy_dt = accuracy_score(y_test, y_pred_dt)\n",
    "print('\\nAccuracy of Tuned Decision Tree:', accuracy_dt)\n",
    "\n",
    "print('\\nClassification Report for Tuned Decision Tree:')\n",
    "print(classification_report(y_test, y_pred_dt, zero_division=0))\n",
    "\n",
    "print('\\nConfusion Matrix for Tuned Decision Tree:')\n",
    "print(confusion_matrix(y_test, y_pred_dt))"
   ]
  },
  {
   "cell_type": "markdown",
   "id": "0aea38bc",
   "metadata": {},
   "source": [
    "* Tuning slightly improved overall metrics like accuracy but doesn't fix imbalanced class detection problems and tuned versions don’t improve recall/precision.\n",
    "* Therefore, untuned models are preferred in the hybrid approach to better balance class-specific performance."
   ]
  },
  {
   "cell_type": "code",
   "execution_count": 41,
   "id": "ac8ba164",
   "metadata": {},
   "outputs": [
    {
     "data": {
      "text/html": [
       "<div>\n",
       "<style scoped>\n",
       "    .dataframe tbody tr th:only-of-type {\n",
       "        vertical-align: middle;\n",
       "    }\n",
       "\n",
       "    .dataframe tbody tr th {\n",
       "        vertical-align: top;\n",
       "    }\n",
       "\n",
       "    .dataframe thead th {\n",
       "        text-align: right;\n",
       "    }\n",
       "</style>\n",
       "<table border=\"1\" class=\"dataframe\">\n",
       "  <thead>\n",
       "    <tr style=\"text-align: right;\">\n",
       "      <th></th>\n",
       "      <th>Quality</th>\n",
       "      <th>Q.Score</th>\n",
       "      <th>Alc</th>\n",
       "      <th>Cl</th>\n",
       "      <th>TSO2</th>\n",
       "      <th>VA</th>\n",
       "      <th>FSO2</th>\n",
       "      <th>FA</th>\n",
       "    </tr>\n",
       "  </thead>\n",
       "  <tbody>\n",
       "    <tr>\n",
       "      <th>1</th>\n",
       "      <td>1</td>\n",
       "      <td>6</td>\n",
       "      <td>9.5</td>\n",
       "      <td>0.049</td>\n",
       "      <td>132.0</td>\n",
       "      <td>0.30</td>\n",
       "      <td>14.0</td>\n",
       "      <td>6.3</td>\n",
       "    </tr>\n",
       "    <tr>\n",
       "      <th>2</th>\n",
       "      <td>1</td>\n",
       "      <td>6</td>\n",
       "      <td>10.1</td>\n",
       "      <td>0.050</td>\n",
       "      <td>97.0</td>\n",
       "      <td>0.28</td>\n",
       "      <td>30.0</td>\n",
       "      <td>8.1</td>\n",
       "    </tr>\n",
       "    <tr>\n",
       "      <th>3</th>\n",
       "      <td>1</td>\n",
       "      <td>6</td>\n",
       "      <td>9.9</td>\n",
       "      <td>0.058</td>\n",
       "      <td>186.0</td>\n",
       "      <td>0.23</td>\n",
       "      <td>47.0</td>\n",
       "      <td>7.2</td>\n",
       "    </tr>\n",
       "    <tr>\n",
       "      <th>4</th>\n",
       "      <td>1</td>\n",
       "      <td>6</td>\n",
       "      <td>9.6</td>\n",
       "      <td>0.045</td>\n",
       "      <td>136.0</td>\n",
       "      <td>0.32</td>\n",
       "      <td>30.0</td>\n",
       "      <td>6.2</td>\n",
       "    </tr>\n",
       "    <tr>\n",
       "      <th>5</th>\n",
       "      <td>1</td>\n",
       "      <td>6</td>\n",
       "      <td>11.0</td>\n",
       "      <td>0.044</td>\n",
       "      <td>129.0</td>\n",
       "      <td>0.22</td>\n",
       "      <td>28.0</td>\n",
       "      <td>8.1</td>\n",
       "    </tr>\n",
       "  </tbody>\n",
       "</table>\n",
       "</div>"
      ],
      "text/plain": [
       "   Quality  Q.Score   Alc     Cl   TSO2    VA  FSO2   FA\n",
       "1        1        6   9.5  0.049  132.0  0.30  14.0  6.3\n",
       "2        1        6  10.1  0.050   97.0  0.28  30.0  8.1\n",
       "3        1        6   9.9  0.058  186.0  0.23  47.0  7.2\n",
       "4        1        6   9.6  0.045  136.0  0.32  30.0  6.2\n",
       "5        1        6  11.0  0.044  129.0  0.22  28.0  8.1"
      ]
     },
     "execution_count": 41,
     "metadata": {},
     "output_type": "execute_result"
    }
   ],
   "source": [
    "df_white_ml.head()"
   ]
  },
  {
   "cell_type": "code",
   "execution_count": 42,
   "id": "8e406c00",
   "metadata": {},
   "outputs": [
    {
     "data": {
      "text/html": [
       "<div>\n",
       "<style scoped>\n",
       "    .dataframe tbody tr th:only-of-type {\n",
       "        vertical-align: middle;\n",
       "    }\n",
       "\n",
       "    .dataframe tbody tr th {\n",
       "        vertical-align: top;\n",
       "    }\n",
       "\n",
       "    .dataframe thead th {\n",
       "        text-align: right;\n",
       "    }\n",
       "</style>\n",
       "<table border=\"1\" class=\"dataframe\">\n",
       "  <thead>\n",
       "    <tr style=\"text-align: right;\">\n",
       "      <th></th>\n",
       "      <th>Quality</th>\n",
       "      <th>Q.Score</th>\n",
       "      <th>Alc</th>\n",
       "      <th>Cl</th>\n",
       "      <th>TSO2</th>\n",
       "      <th>VA</th>\n",
       "      <th>FSO2</th>\n",
       "      <th>FA</th>\n",
       "    </tr>\n",
       "  </thead>\n",
       "  <tbody>\n",
       "    <tr>\n",
       "      <th>0</th>\n",
       "      <td>Low</td>\n",
       "      <td>4</td>\n",
       "      <td>10.4</td>\n",
       "      <td>0.042</td>\n",
       "      <td>61.0</td>\n",
       "      <td>0.350</td>\n",
       "      <td>15.0</td>\n",
       "      <td>9.2</td>\n",
       "    </tr>\n",
       "    <tr>\n",
       "      <th>1</th>\n",
       "      <td>Low</td>\n",
       "      <td>4</td>\n",
       "      <td>9.8</td>\n",
       "      <td>0.034</td>\n",
       "      <td>148.0</td>\n",
       "      <td>0.350</td>\n",
       "      <td>9.0</td>\n",
       "      <td>6.4</td>\n",
       "    </tr>\n",
       "    <tr>\n",
       "      <th>2</th>\n",
       "      <td>Low</td>\n",
       "      <td>4</td>\n",
       "      <td>12.9</td>\n",
       "      <td>0.030</td>\n",
       "      <td>76.0</td>\n",
       "      <td>0.640</td>\n",
       "      <td>18.0</td>\n",
       "      <td>6.7</td>\n",
       "    </tr>\n",
       "    <tr>\n",
       "      <th>3</th>\n",
       "      <td>Medium</td>\n",
       "      <td>5</td>\n",
       "      <td>11.5</td>\n",
       "      <td>0.028</td>\n",
       "      <td>93.0</td>\n",
       "      <td>0.210</td>\n",
       "      <td>20.0</td>\n",
       "      <td>8.9</td>\n",
       "    </tr>\n",
       "    <tr>\n",
       "      <th>4</th>\n",
       "      <td>Medium</td>\n",
       "      <td>6</td>\n",
       "      <td>12.3</td>\n",
       "      <td>0.033</td>\n",
       "      <td>74.0</td>\n",
       "      <td>0.335</td>\n",
       "      <td>17.0</td>\n",
       "      <td>5.2</td>\n",
       "    </tr>\n",
       "    <tr>\n",
       "      <th>5</th>\n",
       "      <td>Medium</td>\n",
       "      <td>6</td>\n",
       "      <td>10.7</td>\n",
       "      <td>0.030</td>\n",
       "      <td>144.0</td>\n",
       "      <td>0.160</td>\n",
       "      <td>29.0</td>\n",
       "      <td>6.1</td>\n",
       "    </tr>\n",
       "    <tr>\n",
       "      <th>6</th>\n",
       "      <td>High</td>\n",
       "      <td>8</td>\n",
       "      <td>12.4</td>\n",
       "      <td>0.045</td>\n",
       "      <td>95.0</td>\n",
       "      <td>0.210</td>\n",
       "      <td>38.0</td>\n",
       "      <td>5.8</td>\n",
       "    </tr>\n",
       "    <tr>\n",
       "      <th>7</th>\n",
       "      <td>High</td>\n",
       "      <td>8</td>\n",
       "      <td>12.6</td>\n",
       "      <td>0.030</td>\n",
       "      <td>92.0</td>\n",
       "      <td>0.260</td>\n",
       "      <td>36.0</td>\n",
       "      <td>6.5</td>\n",
       "    </tr>\n",
       "    <tr>\n",
       "      <th>8</th>\n",
       "      <td>High</td>\n",
       "      <td>8</td>\n",
       "      <td>10.4</td>\n",
       "      <td>0.121</td>\n",
       "      <td>162.0</td>\n",
       "      <td>0.170</td>\n",
       "      <td>32.0</td>\n",
       "      <td>7.3</td>\n",
       "    </tr>\n",
       "    <tr>\n",
       "      <th>9</th>\n",
       "      <td>High</td>\n",
       "      <td>8</td>\n",
       "      <td>12.9</td>\n",
       "      <td>0.026</td>\n",
       "      <td>126.0</td>\n",
       "      <td>0.250</td>\n",
       "      <td>54.0</td>\n",
       "      <td>6.0</td>\n",
       "    </tr>\n",
       "  </tbody>\n",
       "</table>\n",
       "</div>"
      ],
      "text/plain": [
       "  Quality  Q.Score   Alc     Cl   TSO2     VA  FSO2   FA\n",
       "0     Low        4  10.4  0.042   61.0  0.350  15.0  9.2\n",
       "1     Low        4   9.8  0.034  148.0  0.350   9.0  6.4\n",
       "2     Low        4  12.9  0.030   76.0  0.640  18.0  6.7\n",
       "3  Medium        5  11.5  0.028   93.0  0.210  20.0  8.9\n",
       "4  Medium        6  12.3  0.033   74.0  0.335  17.0  5.2\n",
       "5  Medium        6  10.7  0.030  144.0  0.160  29.0  6.1\n",
       "6    High        8  12.4  0.045   95.0  0.210  38.0  5.8\n",
       "7    High        8  12.6  0.030   92.0  0.260  36.0  6.5\n",
       "8    High        8  10.4  0.121  162.0  0.170  32.0  7.3\n",
       "9    High        8  12.9  0.026  126.0  0.250  54.0  6.0"
      ]
     },
     "execution_count": 42,
     "metadata": {},
     "output_type": "execute_result"
    }
   ],
   "source": [
    "# Sample 30 records to show on app as example\n",
    "\n",
    "df_low = df_white_ml[df_white_ml['Quality'] == 0].sample(n=3, random_state=43)\n",
    "df_medium = df_white_ml[df_white_ml['Quality'] == 1].sample(n=3, random_state=43)\n",
    "df_high = df_white_ml[df_white_ml['Quality'] == 2].sample(n=4, random_state=43)\n",
    "\n",
    "# Combine without shuffle since we're sorting next\n",
    "df_white_sample = pd.concat([df_low, df_medium, df_high])\n",
    "\n",
    "# Define mapping \n",
    "quality_map = {\n",
    "    0: 'Low',\n",
    "    1: 'Medium',\n",
    "    2: 'High'\n",
    "}\n",
    "\n",
    "df_white_sample['Quality'] = df_white_sample['Quality'].map(quality_map)\n",
    "\n",
    "# Sort by Q.Score for display\n",
    "df_white_sample = df_white_sample.sort_values(by='Q.Score').reset_index(drop=True)\n",
    "\n",
    "df_white_sample.head(10)\n"
   ]
  },
  {
   "cell_type": "code",
   "execution_count": 43,
   "id": "2b165a34",
   "metadata": {},
   "outputs": [],
   "source": [
    "# Initialize the Random Forest Classifier \n",
    "rf_model = RandomForestClassifier(random_state=42, class_weight='balanced')\n",
    "\n",
    "# Fit the model to training data \n",
    "rf_model.fit(X_train_smote, y_train_smote)  \n",
    "\n",
    "# Predict on the test data \n",
    "y_pred_rf = rf_model.predict(X_test)  "
   ]
  },
  {
   "cell_type": "code",
   "execution_count": 44,
   "id": "f9ea7f51",
   "metadata": {},
   "outputs": [],
   "source": [
    "# Train Decision Tree on SMOTE data \n",
    "dt_model = DecisionTreeClassifier(random_state=42, max_depth=4, class_weight='balanced')\n",
    "dt_model.fit(X_train_smote, y_train_smote)\n",
    "\n",
    "# Predict on test data\n",
    "y_pred_dt = dt_model.predict(X_test)"
   ]
  },
  {
   "cell_type": "code",
   "execution_count": 46,
   "id": "b367143b",
   "metadata": {},
   "outputs": [],
   "source": [
    "# define folders to save sample and clean dataset\n",
    "project_root = os.path.abspath(os.path.join(os.getcwd(), '..'))\n",
    "data_dir = os.path.join(project_root, 'Data')"
   ]
  },
  {
   "cell_type": "code",
   "execution_count": 47,
   "id": "2dcb7a96",
   "metadata": {},
   "outputs": [],
   "source": [
    "df_white_ml.to_csv(os.path.join(data_dir, 'winequality_clean.csv'), index=False)\n",
    "df_white_sample.to_csv(os.path.join(data_dir, 'sample.csv'), index=False)"
   ]
  },
  {
   "cell_type": "code",
   "execution_count": 48,
   "id": "e46a9184",
   "metadata": {},
   "outputs": [
    {
     "data": {
      "text/html": [
       "<div>\n",
       "<style scoped>\n",
       "    .dataframe tbody tr th:only-of-type {\n",
       "        vertical-align: middle;\n",
       "    }\n",
       "\n",
       "    .dataframe tbody tr th {\n",
       "        vertical-align: top;\n",
       "    }\n",
       "\n",
       "    .dataframe thead th {\n",
       "        text-align: right;\n",
       "    }\n",
       "</style>\n",
       "<table border=\"1\" class=\"dataframe\">\n",
       "  <thead>\n",
       "    <tr style=\"text-align: right;\">\n",
       "      <th></th>\n",
       "      <th>Quality</th>\n",
       "      <th>Q.Score</th>\n",
       "      <th>Alc</th>\n",
       "      <th>Cl</th>\n",
       "      <th>TSO2</th>\n",
       "      <th>VA</th>\n",
       "      <th>FSO2</th>\n",
       "      <th>FA</th>\n",
       "    </tr>\n",
       "  </thead>\n",
       "  <tbody>\n",
       "    <tr>\n",
       "      <th>1</th>\n",
       "      <td>1</td>\n",
       "      <td>6</td>\n",
       "      <td>9.5</td>\n",
       "      <td>0.049</td>\n",
       "      <td>132.0</td>\n",
       "      <td>0.30</td>\n",
       "      <td>14.0</td>\n",
       "      <td>6.3</td>\n",
       "    </tr>\n",
       "    <tr>\n",
       "      <th>2</th>\n",
       "      <td>1</td>\n",
       "      <td>6</td>\n",
       "      <td>10.1</td>\n",
       "      <td>0.050</td>\n",
       "      <td>97.0</td>\n",
       "      <td>0.28</td>\n",
       "      <td>30.0</td>\n",
       "      <td>8.1</td>\n",
       "    </tr>\n",
       "    <tr>\n",
       "      <th>3</th>\n",
       "      <td>1</td>\n",
       "      <td>6</td>\n",
       "      <td>9.9</td>\n",
       "      <td>0.058</td>\n",
       "      <td>186.0</td>\n",
       "      <td>0.23</td>\n",
       "      <td>47.0</td>\n",
       "      <td>7.2</td>\n",
       "    </tr>\n",
       "    <tr>\n",
       "      <th>4</th>\n",
       "      <td>1</td>\n",
       "      <td>6</td>\n",
       "      <td>9.6</td>\n",
       "      <td>0.045</td>\n",
       "      <td>136.0</td>\n",
       "      <td>0.32</td>\n",
       "      <td>30.0</td>\n",
       "      <td>6.2</td>\n",
       "    </tr>\n",
       "    <tr>\n",
       "      <th>5</th>\n",
       "      <td>1</td>\n",
       "      <td>6</td>\n",
       "      <td>11.0</td>\n",
       "      <td>0.044</td>\n",
       "      <td>129.0</td>\n",
       "      <td>0.22</td>\n",
       "      <td>28.0</td>\n",
       "      <td>8.1</td>\n",
       "    </tr>\n",
       "    <tr>\n",
       "      <th>...</th>\n",
       "      <td>...</td>\n",
       "      <td>...</td>\n",
       "      <td>...</td>\n",
       "      <td>...</td>\n",
       "      <td>...</td>\n",
       "      <td>...</td>\n",
       "      <td>...</td>\n",
       "      <td>...</td>\n",
       "    </tr>\n",
       "    <tr>\n",
       "      <th>3954</th>\n",
       "      <td>1</td>\n",
       "      <td>6</td>\n",
       "      <td>10.6</td>\n",
       "      <td>0.038</td>\n",
       "      <td>121.0</td>\n",
       "      <td>0.21</td>\n",
       "      <td>38.0</td>\n",
       "      <td>5.7</td>\n",
       "    </tr>\n",
       "    <tr>\n",
       "      <th>3955</th>\n",
       "      <td>1</td>\n",
       "      <td>5</td>\n",
       "      <td>9.7</td>\n",
       "      <td>0.032</td>\n",
       "      <td>112.0</td>\n",
       "      <td>0.23</td>\n",
       "      <td>29.0</td>\n",
       "      <td>6.5</td>\n",
       "    </tr>\n",
       "    <tr>\n",
       "      <th>3956</th>\n",
       "      <td>1</td>\n",
       "      <td>6</td>\n",
       "      <td>11.2</td>\n",
       "      <td>0.039</td>\n",
       "      <td>92.0</td>\n",
       "      <td>0.21</td>\n",
       "      <td>24.0</td>\n",
       "      <td>6.2</td>\n",
       "    </tr>\n",
       "    <tr>\n",
       "      <th>3957</th>\n",
       "      <td>1</td>\n",
       "      <td>5</td>\n",
       "      <td>9.6</td>\n",
       "      <td>0.047</td>\n",
       "      <td>168.0</td>\n",
       "      <td>0.32</td>\n",
       "      <td>57.0</td>\n",
       "      <td>6.6</td>\n",
       "    </tr>\n",
       "    <tr>\n",
       "      <th>3958</th>\n",
       "      <td>1</td>\n",
       "      <td>6</td>\n",
       "      <td>9.4</td>\n",
       "      <td>0.041</td>\n",
       "      <td>111.0</td>\n",
       "      <td>0.24</td>\n",
       "      <td>30.0</td>\n",
       "      <td>6.5</td>\n",
       "    </tr>\n",
       "  </tbody>\n",
       "</table>\n",
       "<p>3570 rows × 8 columns</p>\n",
       "</div>"
      ],
      "text/plain": [
       "      Quality  Q.Score   Alc     Cl   TSO2    VA  FSO2   FA\n",
       "1           1        6   9.5  0.049  132.0  0.30  14.0  6.3\n",
       "2           1        6  10.1  0.050   97.0  0.28  30.0  8.1\n",
       "3           1        6   9.9  0.058  186.0  0.23  47.0  7.2\n",
       "4           1        6   9.6  0.045  136.0  0.32  30.0  6.2\n",
       "5           1        6  11.0  0.044  129.0  0.22  28.0  8.1\n",
       "...       ...      ...   ...    ...    ...   ...   ...  ...\n",
       "3954        1        6  10.6  0.038  121.0  0.21  38.0  5.7\n",
       "3955        1        5   9.7  0.032  112.0  0.23  29.0  6.5\n",
       "3956        1        6  11.2  0.039   92.0  0.21  24.0  6.2\n",
       "3957        1        5   9.6  0.047  168.0  0.32  57.0  6.6\n",
       "3958        1        6   9.4  0.041  111.0  0.24  30.0  6.5\n",
       "\n",
       "[3570 rows x 8 columns]"
      ]
     },
     "execution_count": 48,
     "metadata": {},
     "output_type": "execute_result"
    }
   ],
   "source": [
    "df_white_ml"
   ]
  },
  {
   "cell_type": "markdown",
   "id": "078d3f6b",
   "metadata": {},
   "source": [
    "### Feature Importances – Random Forest"
   ]
  },
  {
   "cell_type": "code",
   "execution_count": 49,
   "id": "5304c008",
   "metadata": {},
   "outputs": [
    {
     "data": {
      "image/png": "[encoded data removed]",
      "text/plain": [
       "<Figure size 1000x600 with 1 Axes>"
      ]
     },
     "metadata": {},
     "output_type": "display_data"
    }
   ],
   "source": [
    "# Get feature importances\n",
    "importances_rf = rf_model.feature_importances_\n",
    "features = X_train.columns\n",
    "\n",
    "# Plot\n",
    "plt.figure(figsize=(10, 6))\n",
    "sns.barplot(x=importances_rf, y=features)\n",
    "plt.title('Feature Importances - Random Forest')\n",
    "plt.xlabel('Importance')\n",
    "plt.ylabel('Features')\n",
    "plt.show()"
   ]
  },
  {
   "cell_type": "code",
   "execution_count": 50,
   "id": "069e918d",
   "metadata": {},
   "outputs": [
    {
     "data": {
      "image/png": "[encoded data removed]",
      "text/plain": [
       "<Figure size 1000x600 with 1 Axes>"
      ]
     },
     "metadata": {},
     "output_type": "display_data"
    }
   ],
   "source": [
    "# Get feature importances\n",
    "importances_dt = dt_model.feature_importances_\n",
    "\n",
    "# Plot\n",
    "plt.figure(figsize=(10, 6))\n",
    "sns.barplot(x=importances_dt, y=features)\n",
    "plt.title('Feature Importances - Decision Tree')\n",
    "plt.xlabel('Importance')\n",
    "plt.ylabel('Features')\n",
    "plt.show()\n"
   ]
  },
  {
   "cell_type": "markdown",
   "id": "8b48360b",
   "metadata": {},
   "source": [
    "### Save Model for Streamlit App"
   ]
  },
  {
   "cell_type": "code",
   "execution_count": 55,
   "id": "ccf8bc16",
   "metadata": {},
   "outputs": [],
   "source": [
    "# define path to save models\n",
    "models_dir = os.path.join(project_root, 'model')"
   ]
  },
  {
   "cell_type": "code",
   "execution_count": 56,
   "id": "cf2b9472",
   "metadata": {},
   "outputs": [
    {
     "name": "stdout",
     "output_type": "stream",
     "text": [
      "saved\n"
     ]
    }
   ],
   "source": [
    "# Save models to model folder\n",
    "joblib.dump(rf_model, os.path.join(models_dir, 'wine_quality_rf_model.pkl'))\n",
    "joblib.dump(dt_model, os.path.join(models_dir, 'wine_quality_dt_model.pkl'))\n",
    "\n",
    "print('saved')"
   ]
  }
 ],
 "metadata": {
  "kernelspec": {
   "display_name": "wine-modeling",
   "language": "python",
   "name": "python3"
  },
  "language_info": {
   "codemirror_mode": {
    "name": "ipython",
    "version": 3
   },
   "file_extension": ".py",
   "mimetype": "text/x-python",
   "name": "python",
   "nbconvert_exporter": "python",
   "pygments_lexer": "ipython3",
   "version": "3.10.18"
  }
 },
 "nbformat": 4,
 "nbformat_minor": 5
}
